{
  "nbformat": 4,
  "nbformat_minor": 0,
  "metadata": {
    "colab": {
      "name": "wineReviews.ipynb",
      "provenance": [],
      "collapsed_sections": [],
      "include_colab_link": true
    },
    "kernelspec": {
      "name": "python3",
      "display_name": "Python 3"
    },
    "accelerator": "GPU"
  },
  "cells": [
    {
      "cell_type": "markdown",
      "metadata": {
        "id": "view-in-github",
        "colab_type": "text"
      },
      "source": [
        "<a href=\"https://colab.research.google.com/github/henrikass/AI_Bootcamp/blob/master/wineReviews.ipynb\" target=\"_parent\"><img src=\"https://colab.research.google.com/assets/colab-badge.svg\" alt=\"Open In Colab\"/></a>"
      ]
    },
    {
      "cell_type": "code",
      "metadata": {
        "id": "OfMwtvI4Akci",
        "colab_type": "code",
        "colab": {}
      },
      "source": [
        "SETUP = True"
      ],
      "execution_count": 0,
      "outputs": []
    },
    {
      "cell_type": "code",
      "metadata": {
        "id": "qKvWTXymDevW",
        "colab_type": "code",
        "outputId": "bd969408-2b7d-4784-97ce-aa064cb6727b",
        "colab": {
          "base_uri": "https://localhost:8080/",
          "height": 51
        }
      },
      "source": [
        "if SETUP:\n",
        "    !pip install -q tensorflow-gpu==2.0.0-rc\n",
        "    !pip install -q kaggle \n",
        "    !pip install -q toai\n",
        "    !pip install -q -U toai\n",
        "    !pip install -q -U nb_black\n",
        "    !pip install -q -U tensorflow-datasets\n",
        "    !pip install -q -U --no-deps tensorflow-addons~=0.6\n",
        "    print(__import__(\"toai\").__version__)\n",
        "    print(__import__(\"tensorflow\").__version__)\n",
        "    "
      ],
      "execution_count": 9,
      "outputs": [
        {
          "output_type": "stream",
          "text": [
            "0.2.5\n",
            "2.0.0-rc0\n"
          ],
          "name": "stdout"
        }
      ]
    },
    {
      "cell_type": "code",
      "metadata": {
        "id": "1e8XxOKHEk4o",
        "colab_type": "code",
        "colab": {}
      },
      "source": [
        "import os\n",
        "from toai.imports import *\n",
        "from toai.data import DataBundle, DataParams, DataContainer\n",
        "from toai.metrics import sparse_top_2_categorical_accuracy\n",
        "import tensorflow as tf\n",
        "from tensorflow import keras\n"
      ],
      "execution_count": 0,
      "outputs": []
    },
    {
      "cell_type": "code",
      "metadata": {
        "id": "S5_UqniOFEoQ",
        "colab_type": "code",
        "colab": {
          "base_uri": "https://localhost:8080/",
          "height": 122
        },
        "outputId": "b6f4a3f9-6301-4521-f35a-37ce21977b58"
      },
      "source": [
        "from google.colab import drive\n",
        "drive.mount('/content/drive')"
      ],
      "execution_count": 7,
      "outputs": [
        {
          "output_type": "stream",
          "text": [
            "Go to this URL in a browser: https://accounts.google.com/o/oauth2/auth?client_id=947318989803-6bn6qk8qdgf4n4g3pfee6491hc0brc4i.apps.googleusercontent.com&redirect_uri=urn%3aietf%3awg%3aoauth%3a2.0%3aoob&response_type=code&scope=email%20https%3a%2f%2fwww.googleapis.com%2fauth%2fdocs.test%20https%3a%2f%2fwww.googleapis.com%2fauth%2fdrive%20https%3a%2f%2fwww.googleapis.com%2fauth%2fdrive.photos.readonly%20https%3a%2f%2fwww.googleapis.com%2fauth%2fpeopleapi.readonly\n",
            "\n",
            "Enter your authorization code:\n",
            "··········\n",
            "Mounted at /content/drive\n"
          ],
          "name": "stdout"
        }
      ]
    },
    {
      "cell_type": "code",
      "metadata": {
        "id": "cytovdfAF1P2",
        "colab_type": "code",
        "colab": {}
      },
      "source": [
        "SAVE_DIR = Path('drive/My Drive/ai')"
      ],
      "execution_count": 0,
      "outputs": []
    },
    {
      "cell_type": "code",
      "metadata": {
        "id": "7R8RdPFkG_OX",
        "colab_type": "code",
        "colab": {}
      },
      "source": [
        "DATA_DIR = Path(\"data/wine-reviews\")\n",
        "DATA_DIR.mkdir(parents=True, exist_ok=True)\n",
        "\n",
        "TEMP_DIR = Path(\"temp/wine-reviews\")\n",
        "TEMP_DIR.mkdir(parents=True, exist_ok=True)"
      ],
      "execution_count": 0,
      "outputs": []
    },
    {
      "cell_type": "code",
      "metadata": {
        "id": "Ek9vb8ONICvm",
        "colab_type": "code",
        "outputId": "048eebec-5662-44e1-f2f9-657d78bbe232",
        "colab": {
          "resources": {
            "http://localhost:8080/nbextensions/google.colab/files.js": {
              "data": "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",
              "ok": true,
              "headers": [
                [
                  "content-type",
                  "application/javascript"
                ]
              ],
              "status": 200,
              "status_text": ""
            }
          },
          "base_uri": "https://localhost:8080/",
          "height": 88
        }
      },
      "source": [
        "from google.colab import files\n",
        "files.upload()"
      ],
      "execution_count": 14,
      "outputs": [
        {
          "output_type": "display_data",
          "data": {
            "text/html": [
              "\n",
              "     <input type=\"file\" id=\"files-f5d26167-b71b-426f-9d1b-5558103f723d\" name=\"files[]\" multiple disabled />\n",
              "     <output id=\"result-f5d26167-b71b-426f-9d1b-5558103f723d\">\n",
              "      Upload widget is only available when the cell has been executed in the\n",
              "      current browser session. Please rerun this cell to enable.\n",
              "      </output>\n",
              "      <script src=\"/nbextensions/google.colab/files.js\"></script> "
            ],
            "text/plain": [
              "<IPython.core.display.HTML object>"
            ]
          },
          "metadata": {
            "tags": []
          }
        },
        {
          "output_type": "stream",
          "text": [
            "Saving kaggle.json to kaggle.json\n"
          ],
          "name": "stdout"
        },
        {
          "output_type": "execute_result",
          "data": {
            "text/plain": [
              "{'kaggle.json': b'{\"username\":\"henrikass\",\"key\":\"276ee0ce86dded298da695653159b4c9\"}'}"
            ]
          },
          "metadata": {
            "tags": []
          },
          "execution_count": 14
        }
      ]
    },
    {
      "cell_type": "code",
      "metadata": {
        "id": "cbd4bE_nHfnL",
        "colab_type": "code",
        "colab": {}
      },
      "source": [
        "!mkdir -p ~/.kaggle\n",
        "!cp kaggle.json ~/.kaggle/"
      ],
      "execution_count": 0,
      "outputs": []
    },
    {
      "cell_type": "code",
      "metadata": {
        "id": "FHigLCSdHOG_",
        "colab_type": "code",
        "outputId": "667b4d93-bf5c-4460-ff1a-057ffafcf03e",
        "colab": {
          "base_uri": "https://localhost:8080/",
          "height": 85
        }
      },
      "source": [
        "!kaggle datasets download -d zynicide/wine-reviews -p {str(DATA_DIR)}"
      ],
      "execution_count": 16,
      "outputs": [
        {
          "output_type": "stream",
          "text": [
            "Warning: Your Kaggle API key is readable by other users on this system! To fix this, you can run 'chmod 600 /root/.kaggle/kaggle.json'\n",
            "Downloading wine-reviews.zip to data/wine-reviews\n",
            " 85% 43.0M/50.9M [00:00<00:00, 29.7MB/s]\n",
            "100% 50.9M/50.9M [00:01<00:00, 52.5MB/s]\n"
          ],
          "name": "stdout"
        }
      ]
    },
    {
      "cell_type": "code",
      "metadata": {
        "id": "A-AuFnGJIuJB",
        "colab_type": "code",
        "colab": {}
      },
      "source": [
        "shutil.unpack_archive(str(DATA_DIR/'wine-reviews.zip'), extract_dir=str(DATA_DIR)  )"
      ],
      "execution_count": 0,
      "outputs": []
    },
    {
      "cell_type": "code",
      "metadata": {
        "id": "JjNZs3skLRpP",
        "colab_type": "code",
        "colab": {}
      },
      "source": [
        "raw_data = pd.read_csv(DATA_DIR/'winemag-data_first150k.csv', low_memory=False)"
      ],
      "execution_count": 0,
      "outputs": []
    },
    {
      "cell_type": "code",
      "metadata": {
        "id": "1DL-KzyPL0lL",
        "colab_type": "code",
        "outputId": "e3356bc2-e704-43dc-e99f-667617932cde",
        "colab": {
          "base_uri": "https://localhost:8080/",
          "height": 407
        }
      },
      "source": [
        "raw_data.describe(include='all')"
      ],
      "execution_count": 19,
      "outputs": [
        {
          "output_type": "execute_result",
          "data": {
            "text/html": [
              "<div>\n",
              "<style scoped>\n",
              "    .dataframe tbody tr th:only-of-type {\n",
              "        vertical-align: middle;\n",
              "    }\n",
              "\n",
              "    .dataframe tbody tr th {\n",
              "        vertical-align: top;\n",
              "    }\n",
              "\n",
              "    .dataframe thead th {\n",
              "        text-align: right;\n",
              "    }\n",
              "</style>\n",
              "<table border=\"1\" class=\"dataframe\">\n",
              "  <thead>\n",
              "    <tr style=\"text-align: right;\">\n",
              "      <th></th>\n",
              "      <th>Unnamed: 0</th>\n",
              "      <th>country</th>\n",
              "      <th>description</th>\n",
              "      <th>designation</th>\n",
              "      <th>points</th>\n",
              "      <th>price</th>\n",
              "      <th>province</th>\n",
              "      <th>region_1</th>\n",
              "      <th>region_2</th>\n",
              "      <th>variety</th>\n",
              "      <th>winery</th>\n",
              "    </tr>\n",
              "  </thead>\n",
              "  <tbody>\n",
              "    <tr>\n",
              "      <th>count</th>\n",
              "      <td>150930.000000</td>\n",
              "      <td>150925</td>\n",
              "      <td>150930</td>\n",
              "      <td>105195</td>\n",
              "      <td>150930.000000</td>\n",
              "      <td>137235.000000</td>\n",
              "      <td>150925</td>\n",
              "      <td>125870</td>\n",
              "      <td>60953</td>\n",
              "      <td>150930</td>\n",
              "      <td>150930</td>\n",
              "    </tr>\n",
              "    <tr>\n",
              "      <th>unique</th>\n",
              "      <td>NaN</td>\n",
              "      <td>48</td>\n",
              "      <td>97821</td>\n",
              "      <td>30621</td>\n",
              "      <td>NaN</td>\n",
              "      <td>NaN</td>\n",
              "      <td>455</td>\n",
              "      <td>1236</td>\n",
              "      <td>18</td>\n",
              "      <td>632</td>\n",
              "      <td>14810</td>\n",
              "    </tr>\n",
              "    <tr>\n",
              "      <th>top</th>\n",
              "      <td>NaN</td>\n",
              "      <td>US</td>\n",
              "      <td>A little bit funky and unsettled when you pop ...</td>\n",
              "      <td>Reserve</td>\n",
              "      <td>NaN</td>\n",
              "      <td>NaN</td>\n",
              "      <td>California</td>\n",
              "      <td>Napa Valley</td>\n",
              "      <td>Central Coast</td>\n",
              "      <td>Chardonnay</td>\n",
              "      <td>Williams Selyem</td>\n",
              "    </tr>\n",
              "    <tr>\n",
              "      <th>freq</th>\n",
              "      <td>NaN</td>\n",
              "      <td>62397</td>\n",
              "      <td>6</td>\n",
              "      <td>2752</td>\n",
              "      <td>NaN</td>\n",
              "      <td>NaN</td>\n",
              "      <td>44508</td>\n",
              "      <td>6209</td>\n",
              "      <td>13057</td>\n",
              "      <td>14482</td>\n",
              "      <td>374</td>\n",
              "    </tr>\n",
              "    <tr>\n",
              "      <th>mean</th>\n",
              "      <td>75464.500000</td>\n",
              "      <td>NaN</td>\n",
              "      <td>NaN</td>\n",
              "      <td>NaN</td>\n",
              "      <td>87.888418</td>\n",
              "      <td>33.131482</td>\n",
              "      <td>NaN</td>\n",
              "      <td>NaN</td>\n",
              "      <td>NaN</td>\n",
              "      <td>NaN</td>\n",
              "      <td>NaN</td>\n",
              "    </tr>\n",
              "    <tr>\n",
              "      <th>std</th>\n",
              "      <td>43569.882402</td>\n",
              "      <td>NaN</td>\n",
              "      <td>NaN</td>\n",
              "      <td>NaN</td>\n",
              "      <td>3.222392</td>\n",
              "      <td>36.322536</td>\n",
              "      <td>NaN</td>\n",
              "      <td>NaN</td>\n",
              "      <td>NaN</td>\n",
              "      <td>NaN</td>\n",
              "      <td>NaN</td>\n",
              "    </tr>\n",
              "    <tr>\n",
              "      <th>min</th>\n",
              "      <td>0.000000</td>\n",
              "      <td>NaN</td>\n",
              "      <td>NaN</td>\n",
              "      <td>NaN</td>\n",
              "      <td>80.000000</td>\n",
              "      <td>4.000000</td>\n",
              "      <td>NaN</td>\n",
              "      <td>NaN</td>\n",
              "      <td>NaN</td>\n",
              "      <td>NaN</td>\n",
              "      <td>NaN</td>\n",
              "    </tr>\n",
              "    <tr>\n",
              "      <th>25%</th>\n",
              "      <td>37732.250000</td>\n",
              "      <td>NaN</td>\n",
              "      <td>NaN</td>\n",
              "      <td>NaN</td>\n",
              "      <td>86.000000</td>\n",
              "      <td>16.000000</td>\n",
              "      <td>NaN</td>\n",
              "      <td>NaN</td>\n",
              "      <td>NaN</td>\n",
              "      <td>NaN</td>\n",
              "      <td>NaN</td>\n",
              "    </tr>\n",
              "    <tr>\n",
              "      <th>50%</th>\n",
              "      <td>75464.500000</td>\n",
              "      <td>NaN</td>\n",
              "      <td>NaN</td>\n",
              "      <td>NaN</td>\n",
              "      <td>88.000000</td>\n",
              "      <td>24.000000</td>\n",
              "      <td>NaN</td>\n",
              "      <td>NaN</td>\n",
              "      <td>NaN</td>\n",
              "      <td>NaN</td>\n",
              "      <td>NaN</td>\n",
              "    </tr>\n",
              "    <tr>\n",
              "      <th>75%</th>\n",
              "      <td>113196.750000</td>\n",
              "      <td>NaN</td>\n",
              "      <td>NaN</td>\n",
              "      <td>NaN</td>\n",
              "      <td>90.000000</td>\n",
              "      <td>40.000000</td>\n",
              "      <td>NaN</td>\n",
              "      <td>NaN</td>\n",
              "      <td>NaN</td>\n",
              "      <td>NaN</td>\n",
              "      <td>NaN</td>\n",
              "    </tr>\n",
              "    <tr>\n",
              "      <th>max</th>\n",
              "      <td>150929.000000</td>\n",
              "      <td>NaN</td>\n",
              "      <td>NaN</td>\n",
              "      <td>NaN</td>\n",
              "      <td>100.000000</td>\n",
              "      <td>2300.000000</td>\n",
              "      <td>NaN</td>\n",
              "      <td>NaN</td>\n",
              "      <td>NaN</td>\n",
              "      <td>NaN</td>\n",
              "      <td>NaN</td>\n",
              "    </tr>\n",
              "  </tbody>\n",
              "</table>\n",
              "</div>"
            ],
            "text/plain": [
              "           Unnamed: 0 country  ...     variety           winery\n",
              "count   150930.000000  150925  ...      150930           150930\n",
              "unique            NaN      48  ...         632            14810\n",
              "top               NaN      US  ...  Chardonnay  Williams Selyem\n",
              "freq              NaN   62397  ...       14482              374\n",
              "mean     75464.500000     NaN  ...         NaN              NaN\n",
              "std      43569.882402     NaN  ...         NaN              NaN\n",
              "min          0.000000     NaN  ...         NaN              NaN\n",
              "25%      37732.250000     NaN  ...         NaN              NaN\n",
              "50%      75464.500000     NaN  ...         NaN              NaN\n",
              "75%     113196.750000     NaN  ...         NaN              NaN\n",
              "max     150929.000000     NaN  ...         NaN              NaN\n",
              "\n",
              "[11 rows x 11 columns]"
            ]
          },
          "metadata": {
            "tags": []
          },
          "execution_count": 19
        }
      ]
    },
    {
      "cell_type": "code",
      "metadata": {
        "id": "PcNTP_WQMEF8",
        "colab_type": "code",
        "outputId": "b6f9c2ea-fa94-43f2-dc4d-d0c0e0dbd6fa",
        "colab": {
          "base_uri": "https://localhost:8080/",
          "height": 289
        }
      },
      "source": [
        "raw_data.info()"
      ],
      "execution_count": 20,
      "outputs": [
        {
          "output_type": "stream",
          "text": [
            "<class 'pandas.core.frame.DataFrame'>\n",
            "RangeIndex: 150930 entries, 0 to 150929\n",
            "Data columns (total 11 columns):\n",
            "Unnamed: 0     150930 non-null int64\n",
            "country        150925 non-null object\n",
            "description    150930 non-null object\n",
            "designation    105195 non-null object\n",
            "points         150930 non-null int64\n",
            "price          137235 non-null float64\n",
            "province       150925 non-null object\n",
            "region_1       125870 non-null object\n",
            "region_2       60953 non-null object\n",
            "variety        150930 non-null object\n",
            "winery         150930 non-null object\n",
            "dtypes: float64(1), int64(2), object(8)\n",
            "memory usage: 12.7+ MB\n"
          ],
          "name": "stdout"
        }
      ]
    },
    {
      "cell_type": "code",
      "metadata": {
        "id": "drOBasbOMUNb",
        "colab_type": "code",
        "outputId": "ba415bd6-a9ff-4720-c779-62d585e50f45",
        "colab": {
          "base_uri": "https://localhost:8080/",
          "height": 441
        }
      },
      "source": [
        "raw_data.head(5).T"
      ],
      "execution_count": 21,
      "outputs": [
        {
          "output_type": "execute_result",
          "data": {
            "text/html": [
              "<div>\n",
              "<style scoped>\n",
              "    .dataframe tbody tr th:only-of-type {\n",
              "        vertical-align: middle;\n",
              "    }\n",
              "\n",
              "    .dataframe tbody tr th {\n",
              "        vertical-align: top;\n",
              "    }\n",
              "\n",
              "    .dataframe thead th {\n",
              "        text-align: right;\n",
              "    }\n",
              "</style>\n",
              "<table border=\"1\" class=\"dataframe\">\n",
              "  <thead>\n",
              "    <tr style=\"text-align: right;\">\n",
              "      <th></th>\n",
              "      <th>0</th>\n",
              "      <th>1</th>\n",
              "      <th>2</th>\n",
              "      <th>3</th>\n",
              "      <th>4</th>\n",
              "    </tr>\n",
              "  </thead>\n",
              "  <tbody>\n",
              "    <tr>\n",
              "      <th>Unnamed: 0</th>\n",
              "      <td>0</td>\n",
              "      <td>1</td>\n",
              "      <td>2</td>\n",
              "      <td>3</td>\n",
              "      <td>4</td>\n",
              "    </tr>\n",
              "    <tr>\n",
              "      <th>country</th>\n",
              "      <td>US</td>\n",
              "      <td>Spain</td>\n",
              "      <td>US</td>\n",
              "      <td>US</td>\n",
              "      <td>France</td>\n",
              "    </tr>\n",
              "    <tr>\n",
              "      <th>description</th>\n",
              "      <td>This tremendous 100% varietal wine hails from ...</td>\n",
              "      <td>Ripe aromas of fig, blackberry and cassis are ...</td>\n",
              "      <td>Mac Watson honors the memory of a wine once ma...</td>\n",
              "      <td>This spent 20 months in 30% new French oak, an...</td>\n",
              "      <td>This is the top wine from La Bégude, named aft...</td>\n",
              "    </tr>\n",
              "    <tr>\n",
              "      <th>designation</th>\n",
              "      <td>Martha's Vineyard</td>\n",
              "      <td>Carodorum Selección Especial Reserva</td>\n",
              "      <td>Special Selected Late Harvest</td>\n",
              "      <td>Reserve</td>\n",
              "      <td>La Brûlade</td>\n",
              "    </tr>\n",
              "    <tr>\n",
              "      <th>points</th>\n",
              "      <td>96</td>\n",
              "      <td>96</td>\n",
              "      <td>96</td>\n",
              "      <td>96</td>\n",
              "      <td>95</td>\n",
              "    </tr>\n",
              "    <tr>\n",
              "      <th>price</th>\n",
              "      <td>235</td>\n",
              "      <td>110</td>\n",
              "      <td>90</td>\n",
              "      <td>65</td>\n",
              "      <td>66</td>\n",
              "    </tr>\n",
              "    <tr>\n",
              "      <th>province</th>\n",
              "      <td>California</td>\n",
              "      <td>Northern Spain</td>\n",
              "      <td>California</td>\n",
              "      <td>Oregon</td>\n",
              "      <td>Provence</td>\n",
              "    </tr>\n",
              "    <tr>\n",
              "      <th>region_1</th>\n",
              "      <td>Napa Valley</td>\n",
              "      <td>Toro</td>\n",
              "      <td>Knights Valley</td>\n",
              "      <td>Willamette Valley</td>\n",
              "      <td>Bandol</td>\n",
              "    </tr>\n",
              "    <tr>\n",
              "      <th>region_2</th>\n",
              "      <td>Napa</td>\n",
              "      <td>NaN</td>\n",
              "      <td>Sonoma</td>\n",
              "      <td>Willamette Valley</td>\n",
              "      <td>NaN</td>\n",
              "    </tr>\n",
              "    <tr>\n",
              "      <th>variety</th>\n",
              "      <td>Cabernet Sauvignon</td>\n",
              "      <td>Tinta de Toro</td>\n",
              "      <td>Sauvignon Blanc</td>\n",
              "      <td>Pinot Noir</td>\n",
              "      <td>Provence red blend</td>\n",
              "    </tr>\n",
              "    <tr>\n",
              "      <th>winery</th>\n",
              "      <td>Heitz</td>\n",
              "      <td>Bodega Carmen Rodríguez</td>\n",
              "      <td>Macauley</td>\n",
              "      <td>Ponzi</td>\n",
              "      <td>Domaine de la Bégude</td>\n",
              "    </tr>\n",
              "  </tbody>\n",
              "</table>\n",
              "</div>"
            ],
            "text/plain": [
              "                                                             0  ...                                                  4\n",
              "Unnamed: 0                                                   0  ...                                                  4\n",
              "country                                                     US  ...                                             France\n",
              "description  This tremendous 100% varietal wine hails from ...  ...  This is the top wine from La Bégude, named aft...\n",
              "designation                                  Martha's Vineyard  ...                                         La Brûlade\n",
              "points                                                      96  ...                                                 95\n",
              "price                                                      235  ...                                                 66\n",
              "province                                            California  ...                                           Provence\n",
              "region_1                                           Napa Valley  ...                                             Bandol\n",
              "region_2                                                  Napa  ...                                                NaN\n",
              "variety                                     Cabernet Sauvignon  ...                                 Provence red blend\n",
              "winery                                                   Heitz  ...                               Domaine de la Bégude\n",
              "\n",
              "[11 rows x 5 columns]"
            ]
          },
          "metadata": {
            "tags": []
          },
          "execution_count": 21
        }
      ]
    },
    {
      "cell_type": "code",
      "metadata": {
        "id": "2cdzgQCaMjzV",
        "colab_type": "code",
        "outputId": "65ae5966-9d28-4f0e-af12-8cce9989a5ca",
        "colab": {
          "base_uri": "https://localhost:8080/",
          "height": 54
        }
      },
      "source": [
        "raw_data['description'][123]"
      ],
      "execution_count": 22,
      "outputs": [
        {
          "output_type": "execute_result",
          "data": {
            "text/plain": [
              "\"This wine takes time to unravel and reveal itself, rewarding the patient with a wealth of high-toned citrus and elegantly wound, medium-bodied honeyed pear and caramel. Lengthy and complex, it's one to consider aging and allowing to further mellow over time. Drink now through 2021.\""
            ]
          },
          "metadata": {
            "tags": []
          },
          "execution_count": 22
        }
      ]
    },
    {
      "cell_type": "code",
      "metadata": {
        "id": "1zP_s_p7SG0Q",
        "colab_type": "code",
        "outputId": "f7500650-8b0b-4516-d630-b4684905e669",
        "colab": {
          "base_uri": "https://localhost:8080/",
          "height": 34
        }
      },
      "source": [
        "type(raw_data['variety'])"
      ],
      "execution_count": 23,
      "outputs": [
        {
          "output_type": "execute_result",
          "data": {
            "text/plain": [
              "pandas.core.series.Series"
            ]
          },
          "metadata": {
            "tags": []
          },
          "execution_count": 23
        }
      ]
    },
    {
      "cell_type": "code",
      "metadata": {
        "id": "qmMJ2k09NTLI",
        "colab_type": "code",
        "outputId": "88eed9f1-2cdc-4714-c221-a88b50862d06",
        "colab": {
          "base_uri": "https://localhost:8080/",
          "height": 221
        }
      },
      "source": [
        "raw_data['variety'].value_counts()"
      ],
      "execution_count": 24,
      "outputs": [
        {
          "output_type": "execute_result",
          "data": {
            "text/plain": [
              "Chardonnay                  14482\n",
              "Pinot Noir                  14291\n",
              "Cabernet Sauvignon          12800\n",
              "Red Blend                   10062\n",
              "Bordeaux-style Red Blend     7347\n",
              "                            ...  \n",
              "Trousseau Gris                  1\n",
              "Pinela                          1\n",
              "Merlot-Petite Verdot            1\n",
              "Forcallà                        1\n",
              "Pardina                         1\n",
              "Name: variety, Length: 632, dtype: int64"
            ]
          },
          "metadata": {
            "tags": []
          },
          "execution_count": 24
        }
      ]
    },
    {
      "cell_type": "code",
      "metadata": {
        "id": "cg9MDQ0tN3Wk",
        "colab_type": "code",
        "outputId": "43a25f06-2b4f-456f-d619-947015d918b7",
        "colab": {
          "base_uri": "https://localhost:8080/",
          "height": 204
        }
      },
      "source": [
        "raw_data['variety'].value_counts().head(10)"
      ],
      "execution_count": 25,
      "outputs": [
        {
          "output_type": "execute_result",
          "data": {
            "text/plain": [
              "Chardonnay                  14482\n",
              "Pinot Noir                  14291\n",
              "Cabernet Sauvignon          12800\n",
              "Red Blend                   10062\n",
              "Bordeaux-style Red Blend     7347\n",
              "Sauvignon Blanc              6320\n",
              "Syrah                        5825\n",
              "Riesling                     5524\n",
              "Merlot                       5070\n",
              "Zinfandel                    3799\n",
              "Name: variety, dtype: int64"
            ]
          },
          "metadata": {
            "tags": []
          },
          "execution_count": 25
        }
      ]
    },
    {
      "cell_type": "code",
      "metadata": {
        "id": "yMVSswK7OJxr",
        "colab_type": "code",
        "colab": {}
      },
      "source": [
        "def drop_rare_values(df, col_name, treshold):\n",
        "    counts = df[col_name].value_counts(normalize=True)\n",
        "    return df.loc[df[col_name].isin(counts[counts > treshold].index), :].reset_index(\n",
        "        drop=True\n",
        "    )"
      ],
      "execution_count": 0,
      "outputs": []
    },
    {
      "cell_type": "code",
      "metadata": {
        "id": "I__9wDTJPLQz",
        "colab_type": "code",
        "colab": {}
      },
      "source": [
        "df = drop_rare_values(raw_data, 'variety', 0.03)"
      ],
      "execution_count": 0,
      "outputs": []
    },
    {
      "cell_type": "code",
      "metadata": {
        "id": "gPg2CQSrPeAD",
        "colab_type": "code",
        "outputId": "1a7329d1-b141-431b-b4f2-f55737979478",
        "colab": {
          "base_uri": "https://localhost:8080/",
          "height": 187
        }
      },
      "source": [
        "df['variety'].value_counts()"
      ],
      "execution_count": 45,
      "outputs": [
        {
          "output_type": "execute_result",
          "data": {
            "text/plain": [
              "Chardonnay                  14482\n",
              "Pinot Noir                  14291\n",
              "Cabernet Sauvignon          12800\n",
              "Red Blend                   10062\n",
              "Bordeaux-style Red Blend     7347\n",
              "Sauvignon Blanc              6320\n",
              "Syrah                        5825\n",
              "Riesling                     5524\n",
              "Merlot                       5070\n",
              "Name: variety, dtype: int64"
            ]
          },
          "metadata": {
            "tags": []
          },
          "execution_count": 45
        }
      ]
    },
    {
      "cell_type": "code",
      "metadata": {
        "id": "TSx-OfvRPkdX",
        "colab_type": "code",
        "outputId": "e7ccd3ba-4b6b-431f-fcfa-1661dcd93469",
        "colab": {
          "base_uri": "https://localhost:8080/",
          "height": 289
        }
      },
      "source": [
        "df.info()"
      ],
      "execution_count": 29,
      "outputs": [
        {
          "output_type": "stream",
          "text": [
            "<class 'pandas.core.frame.DataFrame'>\n",
            "RangeIndex: 81721 entries, 0 to 81720\n",
            "Data columns (total 11 columns):\n",
            "Unnamed: 0     81721 non-null int64\n",
            "country        81717 non-null object\n",
            "description    81721 non-null object\n",
            "designation    55108 non-null object\n",
            "points         81721 non-null int64\n",
            "price          75917 non-null float64\n",
            "province       81717 non-null object\n",
            "region_1       68377 non-null object\n",
            "region_2       44099 non-null object\n",
            "variety        81721 non-null object\n",
            "winery         81721 non-null object\n",
            "dtypes: float64(1), int64(2), object(8)\n",
            "memory usage: 6.9+ MB\n"
          ],
          "name": "stdout"
        }
      ]
    },
    {
      "cell_type": "code",
      "metadata": {
        "id": "hxjA9a_iPqQ8",
        "colab_type": "code",
        "outputId": "5ababde5-cdda-4faa-d628-e27282a1ad5e",
        "colab": {
          "base_uri": "https://localhost:8080/",
          "height": 139
        }
      },
      "source": [
        "for i in df['description'][:3]:\n",
        "  print(i)\n",
        "  print('---------------')"
      ],
      "execution_count": 0,
      "outputs": [
        {
          "output_type": "stream",
          "text": [
            "This tremendous 100% varietal wine hails from Oakville and was aged over three years in oak. Juicy red-cherry fruit and a compelling hint of caramel greet the palate, framed by elegant, fine tannins and a subtle minty tone in the background. Balanced and rewarding from start to finish, it has years ahead of it to develop further nuance. Enjoy 2022–2030.\n",
            "---------------\n",
            "Mac Watson honors the memory of a wine once made by his mother in this tremendously delicious, balanced and complex botrytised white. Dark gold in color, it layers toasted hazelnut, pear compote and orange peel flavors, reveling in the succulence of its 122 g/L of residual sugar.\n",
            "---------------\n",
            "This spent 20 months in 30% new French oak, and incorporates fruit from Ponzi's Aurora, Abetina and Madrona vineyards, among others. Aromatic, dense and toasty, it deftly blends aromas and flavors of toast, cigar box, blackberry, black cherry, coffee and graphite. Tannins are polished to a fine sheen, and frame a finish loaded with dark chocolate and espresso. Drink now through 2032.\n",
            "---------------\n"
          ],
          "name": "stdout"
        }
      ]
    },
    {
      "cell_type": "code",
      "metadata": {
        "id": "svkt592RP_ZU",
        "colab_type": "code",
        "colab": {}
      },
      "source": [
        "def make_category_map(labels):\n",
        "    return {x: i for i, x in enumerate(sorted(set(labels)))}"
      ],
      "execution_count": 0,
      "outputs": []
    },
    {
      "cell_type": "code",
      "metadata": {
        "id": "_iHxeOoxw-WB",
        "colab_type": "code",
        "colab": {}
      },
      "source": [
        "category_map = make_category_map(df['variety'])"
      ],
      "execution_count": 0,
      "outputs": []
    },
    {
      "cell_type": "code",
      "metadata": {
        "id": "yHQ2IDhLySH0",
        "colab_type": "code",
        "outputId": "d3380959-6aa2-4e05-8cdf-c1643d977106",
        "colab": {
          "base_uri": "https://localhost:8080/",
          "height": 170
        }
      },
      "source": [
        "category_map"
      ],
      "execution_count": 47,
      "outputs": [
        {
          "output_type": "execute_result",
          "data": {
            "text/plain": [
              "{'Bordeaux-style Red Blend': 0,\n",
              " 'Cabernet Sauvignon': 1,\n",
              " 'Chardonnay': 2,\n",
              " 'Merlot': 3,\n",
              " 'Pinot Noir': 4,\n",
              " 'Red Blend': 5,\n",
              " 'Riesling': 6,\n",
              " 'Sauvignon Blanc': 7,\n",
              " 'Syrah': 8}"
            ]
          },
          "metadata": {
            "tags": []
          },
          "execution_count": 47
        }
      ]
    },
    {
      "cell_type": "code",
      "metadata": {
        "id": "yQ4Kd2A35LM5",
        "colab_type": "code",
        "colab": {}
      },
      "source": [
        "from toai.utils import save_file, load_file"
      ],
      "execution_count": 0,
      "outputs": []
    },
    {
      "cell_type": "code",
      "metadata": {
        "id": "pmyB8q-Y4_pi",
        "colab_type": "code",
        "colab": {}
      },
      "source": [
        "def init_category_map(filename, labels):\n",
        "  try:\n",
        "    category_map = load_file(filename)\n",
        "  except:\n",
        "    category_map = make_category_map(labels)\n",
        "    save_file(category_map, filename)\n",
        "  return category_map"
      ],
      "execution_count": 0,
      "outputs": []
    },
    {
      "cell_type": "code",
      "metadata": {
        "id": "neod6oRO5rRi",
        "colab_type": "code",
        "colab": {}
      },
      "source": [
        "category_map = init_category_map(SAVE_DIR/'category_map.pickle', df['variety'])"
      ],
      "execution_count": 0,
      "outputs": []
    },
    {
      "cell_type": "code",
      "metadata": {
        "id": "1VECndbJAIp1",
        "colab_type": "code",
        "colab": {
          "base_uri": "https://localhost:8080/",
          "height": 170
        },
        "outputId": "7851352e-d8c1-4dc5-963b-9b655c69c040"
      },
      "source": [
        "category_map"
      ],
      "execution_count": 48,
      "outputs": [
        {
          "output_type": "execute_result",
          "data": {
            "text/plain": [
              "{'Bordeaux-style Red Blend': 0,\n",
              " 'Cabernet Sauvignon': 1,\n",
              " 'Chardonnay': 2,\n",
              " 'Merlot': 3,\n",
              " 'Pinot Noir': 4,\n",
              " 'Red Blend': 5,\n",
              " 'Riesling': 6,\n",
              " 'Sauvignon Blanc': 7,\n",
              " 'Syrah': 8}"
            ]
          },
          "metadata": {
            "tags": []
          },
          "execution_count": 48
        }
      ]
    },
    {
      "cell_type": "code",
      "metadata": {
        "id": "A2SndR8nyT_B",
        "colab_type": "code",
        "colab": {}
      },
      "source": [
        "n_categories = len(category_map)"
      ],
      "execution_count": 0,
      "outputs": []
    },
    {
      "cell_type": "code",
      "metadata": {
        "id": "TvbPAf2cyioW",
        "colab_type": "code",
        "outputId": "41291888-ce0f-4851-9845-464c8137dd6d",
        "colab": {
          "base_uri": "https://localhost:8080/",
          "height": 34
        }
      },
      "source": [
        "n_categories"
      ],
      "execution_count": 36,
      "outputs": [
        {
          "output_type": "execute_result",
          "data": {
            "text/plain": [
              "9"
            ]
          },
          "metadata": {
            "tags": []
          },
          "execution_count": 36
        }
      ]
    },
    {
      "cell_type": "code",
      "metadata": {
        "id": "1MNy0aQSAyQI",
        "colab_type": "code",
        "colab": {
          "base_uri": "https://localhost:8080/",
          "height": 204
        },
        "outputId": "a0b10d53-1f26-4d2b-fa1d-069610670bb1"
      },
      "source": [
        "df['variety'][:10]"
      ],
      "execution_count": 49,
      "outputs": [
        {
          "output_type": "execute_result",
          "data": {
            "text/plain": [
              "0    Cabernet Sauvignon\n",
              "1       Sauvignon Blanc\n",
              "2            Pinot Noir\n",
              "3            Pinot Noir\n",
              "4            Pinot Noir\n",
              "5            Pinot Noir\n",
              "6            Pinot Noir\n",
              "7            Pinot Noir\n",
              "8            Chardonnay\n",
              "9    Cabernet Sauvignon\n",
              "Name: variety, dtype: object"
            ]
          },
          "metadata": {
            "tags": []
          },
          "execution_count": 49
        }
      ]
    },
    {
      "cell_type": "code",
      "metadata": {
        "id": "0z_zaBeRylUg",
        "colab_type": "code",
        "colab": {}
      },
      "source": [
        "df['variety'] = df['variety'].map(category_map)"
      ],
      "execution_count": 0,
      "outputs": []
    },
    {
      "cell_type": "code",
      "metadata": {
        "id": "yWosrFgeyyaK",
        "colab_type": "code",
        "outputId": "02a003a3-c634-4c43-9e33-51d1a12655d3",
        "colab": {
          "base_uri": "https://localhost:8080/",
          "height": 204
        }
      },
      "source": [
        "df['variety'].head(10)"
      ],
      "execution_count": 51,
      "outputs": [
        {
          "output_type": "execute_result",
          "data": {
            "text/plain": [
              "0    1\n",
              "1    7\n",
              "2    4\n",
              "3    4\n",
              "4    4\n",
              "5    4\n",
              "6    4\n",
              "7    4\n",
              "8    2\n",
              "9    1\n",
              "Name: variety, dtype: int64"
            ]
          },
          "metadata": {
            "tags": []
          },
          "execution_count": 51
        }
      ]
    },
    {
      "cell_type": "code",
      "metadata": {
        "id": "qhYEbi_My39q",
        "colab_type": "code",
        "colab": {}
      },
      "source": [
        "data_container = DataContainer(\n",
        "    *DataBundle.split(\n",
        "        data_bundle=DataBundle.from_dataframe(\n",
        "            dataframe=df, x_col=\"description\", y_col=\"variety\"\n",
        "        ),\n",
        "        fracs=[0.8, 0.1, 0.1],\n",
        "    )\n",
        ")"
      ],
      "execution_count": 0,
      "outputs": []
    },
    {
      "cell_type": "code",
      "metadata": {
        "id": "HY6u5LGuzUck",
        "colab_type": "code",
        "outputId": "3b466637-f7cb-4235-c5ac-28c0f955b850",
        "colab": {
          "base_uri": "https://localhost:8080/",
          "height": 54
        }
      },
      "source": [
        "data_container"
      ],
      "execution_count": 53,
      "outputs": [
        {
          "output_type": "execute_result",
          "data": {
            "text/plain": [
              "DataContainer(train=<toai.data.DataBundle.DataBundle object at 0x7f2e60a862b0>, validation=<toai.data.DataBundle.DataBundle object at 0x7f2e60a620f0>, test=<toai.data.DataBundle.DataBundle object at 0x7f2e60a62128>)"
            ]
          },
          "metadata": {
            "tags": []
          },
          "execution_count": 53
        }
      ]
    },
    {
      "cell_type": "code",
      "metadata": {
        "id": "HiLm0dU-gkCL",
        "colab_type": "code",
        "outputId": "a24fb2c8-0704-4e73-ae55-99dc51ed0c03",
        "colab": {
          "base_uri": "https://localhost:8080/",
          "height": 187
        }
      },
      "source": [
        "df['variety'].value_counts()"
      ],
      "execution_count": 54,
      "outputs": [
        {
          "output_type": "execute_result",
          "data": {
            "text/plain": [
              "2    14482\n",
              "4    14291\n",
              "1    12800\n",
              "5    10062\n",
              "0     7347\n",
              "7     6320\n",
              "8     5825\n",
              "6     5524\n",
              "3     5070\n",
              "Name: variety, dtype: int64"
            ]
          },
          "metadata": {
            "tags": []
          },
          "execution_count": 54
        }
      ]
    },
    {
      "cell_type": "code",
      "metadata": {
        "id": "d26RT8PYgLS9",
        "colab_type": "code",
        "outputId": "e1068a2e-9396-426b-f733-950f92e5c340",
        "colab": {
          "base_uri": "https://localhost:8080/",
          "height": 34
        }
      },
      "source": [
        "data_container.test.value_counts()"
      ],
      "execution_count": 55,
      "outputs": [
        {
          "output_type": "execute_result",
          "data": {
            "text/plain": [
              "{0: 751, 1: 1287, 2: 1466, 3: 496, 4: 1399, 5: 1007, 6: 543, 7: 621, 8: 601}"
            ]
          },
          "metadata": {
            "tags": []
          },
          "execution_count": 55
        }
      ]
    },
    {
      "cell_type": "code",
      "metadata": {
        "id": "hx67KjCFzfoo",
        "colab_type": "code",
        "colab": {}
      },
      "source": [
        "class_weights = sk.utils.class_weight.compute_class_weight(\n",
        "    \"balanced\", np.unique(data_container.train.y), data_container.train.y\n",
        ")"
      ],
      "execution_count": 0,
      "outputs": []
    },
    {
      "cell_type": "code",
      "metadata": {
        "id": "t_9dMgMSzqyC",
        "colab_type": "code",
        "colab": {}
      },
      "source": [
        "class_weights = dict(enumerate(class_weights))"
      ],
      "execution_count": 0,
      "outputs": []
    },
    {
      "cell_type": "code",
      "metadata": {
        "id": "kf8NuPWQzuHG",
        "colab_type": "code",
        "outputId": "24cf7cd9-94e6-4764-bb37-b9c4d7ffc62f",
        "colab": {
          "base_uri": "https://localhost:8080/",
          "height": 170
        }
      },
      "source": [
        "class_weights"
      ],
      "execution_count": 59,
      "outputs": [
        {
          "output_type": "execute_result",
          "data": {
            "text/plain": [
              "{0: 1.2442807658634998,\n",
              " 1: 0.7099404917035879,\n",
              " 2: 0.628111639525388,\n",
              " 3: 1.7834792809013285,\n",
              " 4: 0.6305652006172839,\n",
              " 5: 0.905636592832703,\n",
              " 6: 1.631284776804651,\n",
              " 7: 1.4407201727709462,\n",
              " 8: 1.5679065640213925}"
            ]
          },
          "metadata": {
            "tags": []
          },
          "execution_count": 59
        }
      ]
    },
    {
      "cell_type": "code",
      "metadata": {
        "id": "y3akehzizwYV",
        "colab_type": "code",
        "outputId": "52381620-2d3a-4c4b-ff48-e03c2d9b76fe",
        "colab": {
          "base_uri": "https://localhost:8080/",
          "height": 34
        }
      },
      "source": [
        "len(data_container.train), len(data_container.validation), len(data_container.test)\n"
      ],
      "execution_count": 60,
      "outputs": [
        {
          "output_type": "execute_result",
          "data": {
            "text/plain": [
              "(65377, 8173, 8171)"
            ]
          },
          "metadata": {
            "tags": []
          },
          "execution_count": 60
        }
      ]
    },
    {
      "cell_type": "code",
      "metadata": {
        "id": "9VCgQ1Z70aCm",
        "colab_type": "code",
        "colab": {}
      },
      "source": [
        "def make_dataset(data_bundle):\n",
        "    return tf.data.Dataset.from_tensor_slices((data_bundle.x, data_bundle.y))"
      ],
      "execution_count": 0,
      "outputs": []
    },
    {
      "cell_type": "code",
      "metadata": {
        "id": "zvmCrfTn0jOw",
        "colab_type": "code",
        "outputId": "25d34e79-0353-4a9c-99a6-c0d7bf53a409",
        "colab": {
          "base_uri": "https://localhost:8080/",
          "height": 71
        }
      },
      "source": [
        "for x, y in make_dataset(data_container.train).take(1):\n",
        "    print(x)\n",
        "    print(y)"
      ],
      "execution_count": 62,
      "outputs": [
        {
          "output_type": "stream",
          "text": [
            "tf.Tensor(b\"This is a Cabernet-dominated Bordeaux blend. It's got muscle and meat, plenty of red and black fruits, and interesting suggestions of fennel. The fruit and herb are nicely balanced and matched, giving the tannins an appealing herbal character that is not too green.\", shape=(), dtype=string)\n",
            "tf.Tensor(1, shape=(), dtype=int64)\n"
          ],
          "name": "stdout"
        }
      ]
    },
    {
      "cell_type": "code",
      "metadata": {
        "id": "18QXpTEm1KNo",
        "colab_type": "code",
        "colab": {}
      },
      "source": [
        "data_container.train.dataset, data_container.validation.dataset, data_container.test.dataset = map(\n",
        "    make_dataset, (data_container.train, data_container.validation, data_container.test)\n",
        ")"
      ],
      "execution_count": 0,
      "outputs": []
    },
    {
      "cell_type": "code",
      "metadata": {
        "id": "DAnIcYIH1a8a",
        "colab_type": "code",
        "outputId": "eecbf1ef-0d88-438c-b33f-631d38118f97",
        "colab": {
          "base_uri": "https://localhost:8080/",
          "height": 54
        }
      },
      "source": [
        "data_container.train.x[0]"
      ],
      "execution_count": 64,
      "outputs": [
        {
          "output_type": "execute_result",
          "data": {
            "text/plain": [
              "\"This is a Cabernet-dominated Bordeaux blend. It's got muscle and meat, plenty of red and black fruits, and interesting suggestions of fennel. The fruit and herb are nicely balanced and matched, giving the tannins an appealing herbal character that is not too green.\""
            ]
          },
          "metadata": {
            "tags": []
          },
          "execution_count": 64
        }
      ]
    },
    {
      "cell_type": "code",
      "metadata": {
        "id": "2NmOSwrr1drL",
        "colab_type": "code",
        "outputId": "7040216e-9feb-4f10-d03d-53e52c080622",
        "colab": {
          "base_uri": "https://localhost:8080/",
          "height": 34
        }
      },
      "source": [
        "data_container.train.y[0]"
      ],
      "execution_count": 65,
      "outputs": [
        {
          "output_type": "execute_result",
          "data": {
            "text/plain": [
              "1"
            ]
          },
          "metadata": {
            "tags": []
          },
          "execution_count": 65
        }
      ]
    },
    {
      "cell_type": "code",
      "metadata": {
        "id": "yBI4SFEA1nUG",
        "colab_type": "code",
        "colab": {}
      },
      "source": [
        "def preprocess_batch(x, y, max_length=100):\n",
        "    x = tf.strings.regex_replace(x, rb\"<br\\s*/?>\", b\" \")\n",
        "    x = tf.strings.regex_replace(x, b\"[^A-Za-z]\", b\" \")\n",
        "    x = tf.strings.split(x)\n",
        "    x = x.to_tensor(default_value=b\"<pad>\")\n",
        "    paddings = tf.constant([[0, 0], [0, max_length]])\n",
        "    x = tf.pad(x, paddings, constant_values=b\"<pad>\")\n",
        "    x = x[:, :max_length]\n",
        "    return x, y"
      ],
      "execution_count": 0,
      "outputs": []
    },
    {
      "cell_type": "code",
      "metadata": {
        "id": "aFYC245H1u1e",
        "colab_type": "code",
        "colab": {}
      },
      "source": [
        "BATCH_SIZE = 32"
      ],
      "execution_count": 0,
      "outputs": []
    },
    {
      "cell_type": "code",
      "metadata": {
        "id": "zESnklIw17K4",
        "colab_type": "code",
        "outputId": "1157e1b3-4430-4074-d435-df74ee191ccc",
        "colab": {
          "base_uri": "https://localhost:8080/",
          "height": 377
        }
      },
      "source": [
        "for x, y in (\n",
        "    data_container.train.dataset.batch(BATCH_SIZE).map(preprocess_batch).take(1)\n",
        "):\n",
        "    print(x.shape)\n",
        "    print(y.shape)\n",
        "    print(x[0])\n",
        "    print(y[0])"
      ],
      "execution_count": 68,
      "outputs": [
        {
          "output_type": "stream",
          "text": [
            "WARNING:tensorflow:From /usr/local/lib/python3.6/dist-packages/tensorflow_core/python/ops/ragged/ragged_tensor.py:1586: where (from tensorflow.python.ops.array_ops) is deprecated and will be removed in a future version.\n",
            "Instructions for updating:\n",
            "Use tf.where in 2.0, which has the same broadcast rule as np.where\n",
            "(32, 100)\n",
            "(32,)\n",
            "tf.Tensor(\n",
            "[b'This' b'is' b'a' b'Cabernet' b'dominated' b'Bordeaux' b'blend' b'It'\n",
            " b's' b'got' b'muscle' b'and' b'meat' b'plenty' b'of' b'red' b'and'\n",
            " b'black' b'fruits' b'and' b'interesting' b'suggestions' b'of' b'fennel'\n",
            " b'The' b'fruit' b'and' b'herb' b'are' b'nicely' b'balanced' b'and'\n",
            " b'matched' b'giving' b'the' b'tannins' b'an' b'appealing' b'herbal'\n",
            " b'character' b'that' b'is' b'not' b'too' b'green' b'<pad>' b'<pad>'\n",
            " b'<pad>' b'<pad>' b'<pad>' b'<pad>' b'<pad>' b'<pad>' b'<pad>' b'<pad>'\n",
            " b'<pad>' b'<pad>' b'<pad>' b'<pad>' b'<pad>' b'<pad>' b'<pad>' b'<pad>'\n",
            " b'<pad>' b'<pad>' b'<pad>' b'<pad>' b'<pad>' b'<pad>' b'<pad>' b'<pad>'\n",
            " b'<pad>' b'<pad>' b'<pad>' b'<pad>' b'<pad>' b'<pad>' b'<pad>' b'<pad>'\n",
            " b'<pad>' b'<pad>' b'<pad>' b'<pad>' b'<pad>' b'<pad>' b'<pad>' b'<pad>'\n",
            " b'<pad>' b'<pad>' b'<pad>' b'<pad>' b'<pad>' b'<pad>' b'<pad>' b'<pad>'\n",
            " b'<pad>' b'<pad>' b'<pad>' b'<pad>' b'<pad>'], shape=(100,), dtype=string)\n",
            "tf.Tensor(1, shape=(), dtype=int64)\n"
          ],
          "name": "stdout"
        }
      ]
    },
    {
      "cell_type": "code",
      "metadata": {
        "id": "Y6fdo8_Q1-DP",
        "colab_type": "code",
        "colab": {}
      },
      "source": [
        "def make_vocabulary(dataset):\n",
        "    vocabulary = Counter()\n",
        "    for x, _ in dataset.batch(BATCH_SIZE).map(preprocess_batch):\n",
        "        for review in x:\n",
        "            vocabulary.update(review.numpy().tolist())\n",
        "    return vocabulary"
      ],
      "execution_count": 0,
      "outputs": []
    },
    {
      "cell_type": "code",
      "metadata": {
        "id": "aAr9TRra2nsT",
        "colab_type": "code",
        "colab": {}
      },
      "source": [
        "VOCABULARY_SIZE = 10000"
      ],
      "execution_count": 0,
      "outputs": []
    },
    {
      "cell_type": "code",
      "metadata": {
        "id": "qw_MY_Qd2rAV",
        "colab_type": "code",
        "colab": {}
      },
      "source": [
        "vocabulary = make_vocabulary(data_container.train.dataset)"
      ],
      "execution_count": 0,
      "outputs": []
    },
    {
      "cell_type": "code",
      "metadata": {
        "id": "ktDvHEkT2uQ4",
        "colab_type": "code",
        "outputId": "b5c3f553-335e-4989-8ef4-ec2b9c48bfb7",
        "colab": {
          "base_uri": "https://localhost:8080/",
          "height": 357
        }
      },
      "source": [
        "vocabulary.most_common(20)"
      ],
      "execution_count": 72,
      "outputs": [
        {
          "output_type": "execute_result",
          "data": {
            "text/plain": [
              "[(b'<pad>', 3826402),\n",
              " (b'and', 175358),\n",
              " (b'the', 90567),\n",
              " (b'a', 81218),\n",
              " (b'of', 79134),\n",
              " (b'with', 61845),\n",
              " (b'is', 46363),\n",
              " (b'wine', 36923),\n",
              " (b'flavors', 35766),\n",
              " (b's', 34182),\n",
              " (b'in', 33575),\n",
              " (b'this', 32340),\n",
              " (b'to', 28942),\n",
              " (b'it', 27977),\n",
              " (b'fruit', 26264),\n",
              " (b'The', 22791),\n",
              " (b'that', 21270),\n",
              " (b'It', 20773),\n",
              " (b'but', 20541),\n",
              " (b'on', 17988)]"
            ]
          },
          "metadata": {
            "tags": []
          },
          "execution_count": 72
        }
      ]
    },
    {
      "cell_type": "code",
      "metadata": {
        "id": "3AK5bbwc2yHr",
        "colab_type": "code",
        "outputId": "4587dccf-9e77-41bb-8725-3c722631c455",
        "colab": {
          "base_uri": "https://localhost:8080/",
          "height": 34
        }
      },
      "source": [
        "len(vocabulary)"
      ],
      "execution_count": 73,
      "outputs": [
        {
          "output_type": "execute_result",
          "data": {
            "text/plain": [
              "24548"
            ]
          },
          "metadata": {
            "tags": []
          },
          "execution_count": 73
        }
      ]
    },
    {
      "cell_type": "code",
      "metadata": {
        "id": "Lrb362gh3UWj",
        "colab_type": "code",
        "colab": {}
      },
      "source": [
        "truncated_vocabulary = [word for word, count in vocabulary.most_common(VOCABULARY_SIZE)]"
      ],
      "execution_count": 0,
      "outputs": []
    },
    {
      "cell_type": "code",
      "metadata": {
        "id": "iOnujoEQ3qEI",
        "colab_type": "code",
        "outputId": "da1126d6-654b-48a9-fd14-880e5719cf87",
        "colab": {
          "base_uri": "https://localhost:8080/",
          "height": 34
        }
      },
      "source": [
        "len(truncated_vocabulary)"
      ],
      "execution_count": 75,
      "outputs": [
        {
          "output_type": "execute_result",
          "data": {
            "text/plain": [
              "10000"
            ]
          },
          "metadata": {
            "tags": []
          },
          "execution_count": 75
        }
      ]
    },
    {
      "cell_type": "code",
      "metadata": {
        "id": "vZN3MpOH3tdn",
        "colab_type": "code",
        "colab": {}
      },
      "source": [
        "word_to_id = {word: index for index, word in enumerate(truncated_vocabulary)}"
      ],
      "execution_count": 0,
      "outputs": []
    },
    {
      "cell_type": "code",
      "metadata": {
        "id": "XKi-xIzV6jEN",
        "colab_type": "code",
        "outputId": "944d498c-2886-4fff-b967-88a8f0ea7029",
        "colab": {
          "base_uri": "https://localhost:8080/",
          "height": 136
        }
      },
      "source": [
        "for word in b\"This wine is not so good :D\".split():\n",
        "    print(word_to_id.get(word) or VOCABULARY_SIZE)"
      ],
      "execution_count": 77,
      "outputs": [
        {
          "output_type": "stream",
          "text": [
            "21\n",
            "7\n",
            "6\n",
            "71\n",
            "124\n",
            "47\n",
            "10000\n"
          ],
          "name": "stdout"
        }
      ]
    },
    {
      "cell_type": "code",
      "metadata": {
        "id": "sCQQthc66ptc",
        "colab_type": "code",
        "colab": {}
      },
      "source": [
        "words = tf.constant(truncated_vocabulary)"
      ],
      "execution_count": 0,
      "outputs": []
    },
    {
      "cell_type": "code",
      "metadata": {
        "id": "22haAOs0_fg8",
        "colab_type": "code",
        "outputId": "baf7ce75-1f43-4ab0-bcc6-78d2f31b9a83",
        "colab": {
          "base_uri": "https://localhost:8080/",
          "height": 68
        }
      },
      "source": [
        "words"
      ],
      "execution_count": 79,
      "outputs": [
        {
          "output_type": "execute_result",
          "data": {
            "text/plain": [
              "<tf.Tensor: id=265874, shape=(10000,), dtype=string, numpy=\n",
              "array([b'<pad>', b'and', b'the', ..., b'Coro', b'luxuriant', b'shadowy'],\n",
              "      dtype=object)>"
            ]
          },
          "metadata": {
            "tags": []
          },
          "execution_count": 79
        }
      ]
    },
    {
      "cell_type": "code",
      "metadata": {
        "id": "IFlN4QyK_hmb",
        "colab_type": "code",
        "colab": {}
      },
      "source": [
        "word_ids = tf.range(len(truncated_vocabulary), dtype=tf.int64)"
      ],
      "execution_count": 0,
      "outputs": []
    },
    {
      "cell_type": "code",
      "metadata": {
        "id": "zMkaHR8g_utE",
        "colab_type": "code",
        "colab": {}
      },
      "source": [
        "n_oov_buckets = VOCABULARY_SIZE // 10"
      ],
      "execution_count": 0,
      "outputs": []
    },
    {
      "cell_type": "code",
      "metadata": {
        "id": "-WuWmsz4_w1M",
        "colab_type": "code",
        "outputId": "8ef0b232-b45f-49ba-9a0a-da39b91ca288",
        "colab": {
          "base_uri": "https://localhost:8080/",
          "height": 34
        }
      },
      "source": [
        "n_oov_buckets"
      ],
      "execution_count": 82,
      "outputs": [
        {
          "output_type": "execute_result",
          "data": {
            "text/plain": [
              "1000"
            ]
          },
          "metadata": {
            "tags": []
          },
          "execution_count": 82
        }
      ]
    },
    {
      "cell_type": "code",
      "metadata": {
        "id": "3qhUO5Qd_z02",
        "colab_type": "code",
        "colab": {}
      },
      "source": [
        "vocab_init = tf.lookup.KeyValueTensorInitializer(words, word_ids)"
      ],
      "execution_count": 0,
      "outputs": []
    },
    {
      "cell_type": "code",
      "metadata": {
        "id": "_UeVmgUz_3EW",
        "colab_type": "code",
        "colab": {}
      },
      "source": [
        "table = tf.lookup.StaticVocabularyTable(vocab_init, n_oov_buckets)"
      ],
      "execution_count": 0,
      "outputs": []
    },
    {
      "cell_type": "code",
      "metadata": {
        "id": "S6r6__CW_54u",
        "colab_type": "code",
        "outputId": "ce670def-f207-42ba-b003-38d13ed7d410",
        "colab": {
          "base_uri": "https://localhost:8080/",
          "height": 68
        }
      },
      "source": [
        "table.lookup(tf.constant([b\"This wine is not so good nice and bla bla bla\".split()]))"
      ],
      "execution_count": 85,
      "outputs": [
        {
          "output_type": "execute_result",
          "data": {
            "text/plain": [
              "<tf.Tensor: id=265892, shape=(1, 11), dtype=int64, numpy=\n",
              "array([[   21,     7,     6,    71,   124,    47,   166,     1, 10502,\n",
              "        10502, 10502]])>"
            ]
          },
          "metadata": {
            "tags": []
          },
          "execution_count": 85
        }
      ]
    },
    {
      "cell_type": "code",
      "metadata": {
        "id": "hBLIvAoVAAFB",
        "colab_type": "code",
        "colab": {}
      },
      "source": [
        "def encode_words(x, y):\n",
        "    return table.lookup(x), y"
      ],
      "execution_count": 0,
      "outputs": []
    },
    {
      "cell_type": "code",
      "metadata": {
        "id": "HJD6KchQAQrk",
        "colab_type": "code",
        "colab": {}
      },
      "source": [
        "train_dataset = (\n",
        "    data_container.train.dataset.batch(BATCH_SIZE)\n",
        "    .map(preprocess_batch)\n",
        "    .map(encode_words)\n",
        "    .repeat()\n",
        "    .prefetch(-1)\n",
        ")"
      ],
      "execution_count": 0,
      "outputs": []
    },
    {
      "cell_type": "code",
      "metadata": {
        "id": "H6K0V1-wA8F1",
        "colab_type": "code",
        "colab": {}
      },
      "source": [
        "valid_dataset = (\n",
        "    data_container.validation.dataset.batch(BATCH_SIZE)\n",
        "    .map(preprocess_batch)\n",
        "    .map(encode_words)\n",
        ")"
      ],
      "execution_count": 0,
      "outputs": []
    },
    {
      "cell_type": "code",
      "metadata": {
        "id": "W_iWZ90DBV1S",
        "colab_type": "code",
        "outputId": "fa5a6baf-571f-4319-a9f5-1ed7e86b659d",
        "colab": {
          "base_uri": "https://localhost:8080/",
          "height": 221
        }
      },
      "source": [
        "for x, y in train_dataset.take(1):\n",
        "    print(x.shape)\n",
        "    print(y.shape)\n",
        "    print(x[0])\n",
        "    print(y[0])"
      ],
      "execution_count": 89,
      "outputs": [
        {
          "output_type": "stream",
          "text": [
            "(32, 100)\n",
            "(32,)\n",
            "tf.Tensor(\n",
            "[  21    6    3   44  617  247   52   17    9  962 1656    1  338  197\n",
            "    4   41    1   29   63    1  372 1274    4 1480   15   14    1  157\n",
            "   28  304   94    1 2008  356    2   22   45  455  128  103   16    6\n",
            "   71  176   65    0    0    0    0    0    0    0    0    0    0    0\n",
            "    0    0    0    0    0    0    0    0    0    0    0    0    0    0\n",
            "    0    0    0    0    0    0    0    0    0    0    0    0    0    0\n",
            "    0    0    0    0    0    0    0    0    0    0    0    0    0    0\n",
            "    0    0], shape=(100,), dtype=int64)\n",
            "tf.Tensor(1, shape=(), dtype=int64)\n"
          ],
          "name": "stdout"
        }
      ]
    },
    {
      "cell_type": "code",
      "metadata": {
        "id": "mVyezC6JBadU",
        "colab_type": "code",
        "outputId": "0a54894d-824e-4e6a-89ac-15deab237e17",
        "colab": {
          "base_uri": "https://localhost:8080/",
          "height": 238
        }
      },
      "source": [
        "for x, y in valid_dataset.take(1):\n",
        "    print(x.shape)\n",
        "    print(y.shape)\n",
        "    print(x[0])\n",
        "    print(y[0])"
      ],
      "execution_count": 90,
      "outputs": [
        {
          "output_type": "stream",
          "text": [
            "(32, 100)\n",
            "(32,)\n",
            "tf.Tensor(\n",
            "[  284  1192     4  2910  8726   200    59    19     2    56     4    11\n",
            "   290    27     2 10249   681     5    35     4  1881  1112  5117     1\n",
            "  1447   210    15    33     6   772    99    10   376   203     8     4\n",
            "  1881  6233  1298  1334     1     3   916   103     0     0     0     0\n",
            "     0     0     0     0     0     0     0     0     0     0     0     0\n",
            "     0     0     0     0     0     0     0     0     0     0     0     0\n",
            "     0     0     0     0     0     0     0     0     0     0     0     0\n",
            "     0     0     0     0     0     0     0     0     0     0     0     0\n",
            "     0     0     0     0], shape=(100,), dtype=int64)\n",
            "tf.Tensor(8, shape=(), dtype=int64)\n"
          ],
          "name": "stdout"
        }
      ]
    },
    {
      "cell_type": "code",
      "metadata": {
        "id": "ZQLrekJIBlfZ",
        "colab_type": "code",
        "colab": {}
      },
      "source": [
        "train_data_steps = len(data_container.train) // BATCH_SIZE"
      ],
      "execution_count": 0,
      "outputs": []
    },
    {
      "cell_type": "code",
      "metadata": {
        "id": "cmyXJndDB8cX",
        "colab_type": "code",
        "colab": {}
      },
      "source": [
        "valid_data_steps = len(data_container.validation) // BATCH_SIZE"
      ],
      "execution_count": 0,
      "outputs": []
    },
    {
      "cell_type": "code",
      "metadata": {
        "id": "m2iL3opzCASQ",
        "colab_type": "code",
        "colab": {}
      },
      "source": [
        "def make_sequential_lstm_model(\n",
        "    n_categories, embedding_size, lstm_size, lstm_dropout, dropout\n",
        "):\n",
        "    return keras.models.Sequential(\n",
        "        [\n",
        "            keras.layers.Embedding(\n",
        "                VOCABULARY_SIZE + n_oov_buckets,\n",
        "                embedding_size,\n",
        "                mask_zero=True,\n",
        "                input_shape=[None],\n",
        "            ),\n",
        "            keras.layers.Bidirectional(\n",
        "                keras.layers.LSTM(\n",
        "                    lstm_size, dropout=lstm_dropout, return_sequences=True\n",
        "                )\n",
        "            ),\n",
        "            keras.layers.Bidirectional(\n",
        "                keras.layers.LSTM(\n",
        "                    lstm_size, dropout=lstm_dropout, return_sequences=True\n",
        "                )\n",
        "            ),\n",
        "            keras.layers.GlobalMaxPool1D(),\n",
        "            keras.layers.Dropout(dropout),\n",
        "            keras.layers.Dense(n_categories, activation=keras.activations.softmax),\n",
        "        ]\n",
        "    )"
      ],
      "execution_count": 0,
      "outputs": []
    },
    {
      "cell_type": "code",
      "metadata": {
        "id": "n56x2WaVCja8",
        "colab_type": "code",
        "colab": {}
      },
      "source": [
        "\n",
        "model1 = make_sequential_lstm_model(\n",
        "    n_categories=n_categories,\n",
        "    embedding_size=64,\n",
        "    lstm_size=64,\n",
        "    lstm_dropout=0.2,\n",
        "    dropout=0.5,\n",
        ")"
      ],
      "execution_count": 0,
      "outputs": []
    },
    {
      "cell_type": "code",
      "metadata": {
        "id": "uUzqziLrCpL-",
        "colab_type": "code",
        "colab": {}
      },
      "source": [
        "model1.compile(\n",
        "    loss=keras.losses.sparse_categorical_crossentropy,\n",
        "    optimizer=keras.optimizers.Adam(lr=3e-4),\n",
        "    metrics=[\n",
        "        keras.metrics.sparse_categorical_accuracy,\n",
        "        sparse_top_2_categorical_accuracy,\n",
        "    ],\n",
        ")"
      ],
      "execution_count": 0,
      "outputs": []
    },
    {
      "cell_type": "code",
      "metadata": {
        "id": "TddZj4zxCwNO",
        "colab_type": "code",
        "outputId": "3079e21b-c922-4f1b-822a-c7d7074858d9",
        "colab": {
          "base_uri": "https://localhost:8080/",
          "height": 122
        }
      },
      "source": [
        "history = model1.fit(\n",
        "    train_dataset,\n",
        "    steps_per_epoch=train_data_steps,\n",
        "    validation_data=valid_dataset,\n",
        "    validation_steps=valid_data_steps,\n",
        "    epochs=2,\n",
        "    callbacks=[\n",
        "        keras.callbacks.ReduceLROnPlateau(patience=1, factor=0.3),\n",
        "        keras.callbacks.EarlyStopping(patience=3, restore_best_weights=True),\n",
        "        keras.callbacks.ModelCheckpoint(str(SAVE_DIR)+'/model1_nofeatures.h5', save_best_only=True)\n",
        "    ],\n",
        "    class_weight=class_weights,\n",
        ")"
      ],
      "execution_count": 100,
      "outputs": [
        {
          "output_type": "stream",
          "text": [
            "Train for 2043 steps, validate for 255 steps\n",
            "Epoch 1/2\n",
            "2043/2043 [==============================] - 692s 339ms/step - loss: 1.1398 - sparse_categorical_accuracy: 0.6049 - sparse_top_2_categorical_accuracy: 0.7615 - val_loss: 0.6766 - val_sparse_categorical_accuracy: 0.7659 - val_sparse_top_2_categorical_accuracy: 0.8822\n",
            "Epoch 2/2\n",
            "2043/2043 [==============================] - 666s 326ms/step - loss: 0.6149 - sparse_categorical_accuracy: 0.7932 - sparse_top_2_categorical_accuracy: 0.8930 - val_loss: 0.5669 - val_sparse_categorical_accuracy: 0.8034 - val_sparse_top_2_categorical_accuracy: 0.9037\n"
          ],
          "name": "stdout"
        }
      ]
    },
    {
      "cell_type": "code",
      "metadata": {
        "id": "xP8VlCOhgx37",
        "colab_type": "code",
        "colab": {
          "base_uri": "https://localhost:8080/",
          "height": 122
        },
        "outputId": "09abcfc2-99c4-4c0d-e216-ab2f0b6120de"
      },
      "source": [
        "history_1 = model1.fit(\n",
        "    train_dataset,\n",
        "    steps_per_epoch=train_data_steps,\n",
        "    validation_data=valid_dataset,\n",
        "    validation_steps=valid_data_steps,\n",
        "    epochs=2,\n",
        "    callbacks=[\n",
        "        keras.callbacks.ReduceLROnPlateau(patience=1, factor=0.3),\n",
        "        keras.callbacks.EarlyStopping(patience=3, restore_best_weights=True),\n",
        "        keras.callbacks.ModelCheckpoint(str(SAVE_DIR)+'/model1_nofeatures.h5', save_best_only=True)\n",
        "    ],\n",
        "    class_weight=class_weights,\n",
        ")"
      ],
      "execution_count": 166,
      "outputs": [
        {
          "output_type": "stream",
          "text": [
            "Train for 2043 steps, validate for 255 steps\n",
            "Epoch 1/2\n",
            "2043/2043 [==============================] - 664s 325ms/step - loss: 0.4869 - sparse_categorical_accuracy: 0.8374 - sparse_top_2_categorical_accuracy: 0.9183 - val_loss: 0.5249 - val_sparse_categorical_accuracy: 0.8214 - val_sparse_top_2_categorical_accuracy: 0.9112\n",
            "Epoch 2/2\n",
            "2043/2043 [==============================] - 656s 321ms/step - loss: 0.4131 - sparse_categorical_accuracy: 0.8645 - sparse_top_2_categorical_accuracy: 0.9354 - val_loss: 0.5036 - val_sparse_categorical_accuracy: 0.8290 - val_sparse_top_2_categorical_accuracy: 0.9150\n"
          ],
          "name": "stdout"
        }
      ]
    },
    {
      "cell_type": "code",
      "metadata": {
        "id": "vW2Uuy6cDrPv",
        "colab_type": "code",
        "colab": {}
      },
      "source": [
        "model1.load_weights(str(SAVE_DIR)+\"/model1_nofeatures.h5\")"
      ],
      "execution_count": 0,
      "outputs": []
    },
    {
      "cell_type": "code",
      "metadata": {
        "id": "UUqKmEkvJirZ",
        "colab_type": "code",
        "outputId": "3b95424a-2f47-41eb-8d84-8da919840582",
        "colab": {
          "base_uri": "https://localhost:8080/",
          "height": 357
        }
      },
      "source": [
        "model1.summary()"
      ],
      "execution_count": 102,
      "outputs": [
        {
          "output_type": "stream",
          "text": [
            "Model: \"sequential\"\n",
            "_________________________________________________________________\n",
            "Layer (type)                 Output Shape              Param #   \n",
            "=================================================================\n",
            "embedding (Embedding)        (None, None, 64)          704000    \n",
            "_________________________________________________________________\n",
            "bidirectional (Bidirectional (None, None, 128)         66048     \n",
            "_________________________________________________________________\n",
            "bidirectional_1 (Bidirection (None, None, 128)         98816     \n",
            "_________________________________________________________________\n",
            "global_max_pooling1d (Global (None, 128)               0         \n",
            "_________________________________________________________________\n",
            "dropout (Dropout)            (None, 128)               0         \n",
            "_________________________________________________________________\n",
            "dense (Dense)                (None, 9)                 1161      \n",
            "=================================================================\n",
            "Total params: 870,025\n",
            "Trainable params: 870,025\n",
            "Non-trainable params: 0\n",
            "_________________________________________________________________\n"
          ],
          "name": "stdout"
        }
      ]
    },
    {
      "cell_type": "code",
      "metadata": {
        "id": "5gbK_uiOMy1U",
        "colab_type": "code",
        "outputId": "f1a9db36-b0a5-4e48-d14e-d8f57bbf5df8",
        "colab": {
          "base_uri": "https://localhost:8080/",
          "height": 71
        }
      },
      "source": [
        "model1.evaluate(valid_dataset, steps=valid_data_steps)"
      ],
      "execution_count": 167,
      "outputs": [
        {
          "output_type": "stream",
          "text": [
            "255/255 [==============================] - 19s 74ms/step - loss: 0.5036 - sparse_categorical_accuracy: 0.8290 - sparse_top_2_categorical_accuracy: 0.9150\n"
          ],
          "name": "stdout"
        },
        {
          "output_type": "execute_result",
          "data": {
            "text/plain": [
              "[0.5036485834448945, 0.8290441, 0.91495097]"
            ]
          },
          "metadata": {
            "tags": []
          },
          "execution_count": 167
        }
      ]
    },
    {
      "cell_type": "code",
      "metadata": {
        "id": "oAThO7VjNFBP",
        "colab_type": "code",
        "outputId": "82be4090-d388-404b-8998-e78957b88ca6",
        "colab": {
          "base_uri": "https://localhost:8080/",
          "height": 289
        }
      },
      "source": [
        "print(classification_report(data_container.validation.y, model1.predict(valid_dataset).argmax(axis=1)))"
      ],
      "execution_count": 168,
      "outputs": [
        {
          "output_type": "stream",
          "text": [
            "              precision    recall  f1-score   support\n",
            "\n",
            "           0       0.79      0.81      0.80       758\n",
            "           1       0.72      0.86      0.78      1281\n",
            "           2       0.90      0.92      0.91      1451\n",
            "           3       0.63      0.61      0.62       501\n",
            "           4       0.86      0.89      0.88      1372\n",
            "           5       0.88      0.77      0.82      1034\n",
            "           6       0.88      0.91      0.90       528\n",
            "           7       0.90      0.79      0.84       657\n",
            "           8       0.91      0.68      0.78       591\n",
            "\n",
            "    accuracy                           0.83      8173\n",
            "   macro avg       0.83      0.80      0.81      8173\n",
            "weighted avg       0.83      0.83      0.83      8173\n",
            "\n"
          ],
          "name": "stdout"
        }
      ]
    },
    {
      "cell_type": "code",
      "metadata": {
        "id": "8LJ0OX6jNumF",
        "colab_type": "code",
        "colab": {}
      },
      "source": [
        "\n",
        "def make_cnn_model(\n",
        "    n_categories, embedding_size, conv_size, kernel_size, dropout, stride=2\n",
        "):\n",
        "    input_layer = keras.layers.Input(shape=[None])\n",
        "    mask = keras.layers.Lambda(lambda inputs: keras.backend.not_equal(inputs, 0))(\n",
        "        input_layer\n",
        "    )\n",
        "    embedding_layer = keras.layers.Embedding(\n",
        "        VOCABULARY_SIZE + n_oov_buckets, embedding_size\n",
        "    )(input_layer)\n",
        "    cnn1_layer = keras.layers.Conv1D(\n",
        "        conv_size,\n",
        "        kernel_size=kernel_size,\n",
        "        strides=stride,\n",
        "        activation=keras.activations.relu,\n",
        "        kernel_initializer=keras.initializers.he_uniform(),\n",
        "    )(embedding_layer)\n",
        "    cnn1_dropout = keras.layers.Dropout(dropout)(cnn1_layer)\n",
        "    cnn2_layer = keras.layers.Conv1D(\n",
        "        conv_size,\n",
        "        kernel_size=kernel_size,\n",
        "        strides=stride,\n",
        "        activation=keras.activations.relu,\n",
        "        kernel_initializer=keras.initializers.he_uniform(),\n",
        "    )(cnn1_dropout)\n",
        "    cnn2_dropout = keras.layers.Dropout(dropout)(cnn2_layer)\n",
        "    max_pool_layer = keras.layers.GlobalMaxPool1D()(cnn2_dropout)\n",
        "    dropout_layer = keras.layers.Dropout(dropout)(max_pool_layer)\n",
        "    output_layer = keras.layers.Dense(\n",
        "        n_categories, activation=keras.activations.softmax\n",
        "    )(dropout_layer)\n",
        "    return keras.Model(inputs=input_layer, outputs=output_layer)"
      ],
      "execution_count": 0,
      "outputs": []
    },
    {
      "cell_type": "code",
      "metadata": {
        "id": "hEvoAZ3xKzQi",
        "colab_type": "code",
        "colab": {}
      },
      "source": [
        "model2 = make_cnn_model(\n",
        "    n_categories=n_categories,\n",
        "    embedding_size=64,\n",
        "    conv_size=64,\n",
        "    kernel_size=3,\n",
        "    dropout=0.5,\n",
        ")\n"
      ],
      "execution_count": 0,
      "outputs": []
    },
    {
      "cell_type": "code",
      "metadata": {
        "id": "IXVuV2cbKPie",
        "colab_type": "code",
        "colab": {
          "base_uri": "https://localhost:8080/",
          "height": 459
        },
        "outputId": "52dde73c-528b-4932-eaf3-8daeb5f223cc"
      },
      "source": [
        "model2.summary()"
      ],
      "execution_count": 118,
      "outputs": [
        {
          "output_type": "stream",
          "text": [
            "Model: \"model\"\n",
            "_________________________________________________________________\n",
            "Layer (type)                 Output Shape              Param #   \n",
            "=================================================================\n",
            "input_1 (InputLayer)         [(None, None)]            0         \n",
            "_________________________________________________________________\n",
            "embedding_1 (Embedding)      (None, None, 64)          704000    \n",
            "_________________________________________________________________\n",
            "conv1d_6 (Conv1D)            (None, None, 64)          12352     \n",
            "_________________________________________________________________\n",
            "dropout_7 (Dropout)          (None, None, 64)          0         \n",
            "_________________________________________________________________\n",
            "conv1d_7 (Conv1D)            (None, None, 64)          12352     \n",
            "_________________________________________________________________\n",
            "dropout_8 (Dropout)          (None, None, 64)          0         \n",
            "_________________________________________________________________\n",
            "global_max_pooling1d_1 (Glob (None, 64)                0         \n",
            "_________________________________________________________________\n",
            "dropout_9 (Dropout)          (None, 64)                0         \n",
            "_________________________________________________________________\n",
            "dense_3 (Dense)              (None, 9)                 585       \n",
            "=================================================================\n",
            "Total params: 729,289\n",
            "Trainable params: 729,289\n",
            "Non-trainable params: 0\n",
            "_________________________________________________________________\n"
          ],
          "name": "stdout"
        }
      ]
    },
    {
      "cell_type": "code",
      "metadata": {
        "id": "oO44faQPJOHo",
        "colab_type": "code",
        "colab": {}
      },
      "source": [
        "model2.compile(\n",
        "    loss=keras.losses.sparse_categorical_crossentropy,\n",
        "    optimizer=keras.optimizers.Adam(lr=3e-4),\n",
        "    metrics=[\n",
        "        keras.metrics.sparse_categorical_accuracy,\n",
        "        sparse_top_2_categorical_accuracy,\n",
        "    ],\n",
        ")"
      ],
      "execution_count": 0,
      "outputs": []
    },
    {
      "cell_type": "code",
      "metadata": {
        "id": "8YwfHfEmJgq5",
        "colab_type": "code",
        "colab": {
          "base_uri": "https://localhost:8080/",
          "height": 394
        },
        "outputId": "56f8d8f9-8a83-486d-9760-e953a49ebf0b"
      },
      "source": [
        "history2 = model2.fit(\n",
        "    train_dataset,\n",
        "    steps_per_epoch=train_data_steps,\n",
        "    validation_data=valid_dataset,\n",
        "    validation_steps=valid_data_steps,\n",
        "    epochs=10,\n",
        "    callbacks=[\n",
        "        keras.callbacks.ReduceLROnPlateau(patience=1, factor=0.3),\n",
        "        keras.callbacks.EarlyStopping(patience=3, restore_best_weights=True),\n",
        "        keras.callbacks.ModelCheckpoint(str(SAVE_DIR)+'/model2.h5', save_best_only=True)\n",
        "    ],\n",
        "    class_weight=class_weights,\n",
        ")"
      ],
      "execution_count": 121,
      "outputs": [
        {
          "output_type": "stream",
          "text": [
            "Train for 2043 steps, validate for 255 steps\n",
            "Epoch 1/10\n",
            "2043/2043 [==============================] - 44s 21ms/step - loss: 0.9554 - sparse_categorical_accuracy: 0.6437 - sparse_top_2_categorical_accuracy: 0.8066 - val_loss: 0.8430 - val_sparse_categorical_accuracy: 0.7397 - val_sparse_top_2_categorical_accuracy: 0.8714\n",
            "Epoch 2/10\n",
            "2043/2043 [==============================] - 44s 21ms/step - loss: 0.8328 - sparse_categorical_accuracy: 0.7042 - sparse_top_2_categorical_accuracy: 0.8480 - val_loss: 0.7369 - val_sparse_categorical_accuracy: 0.7737 - val_sparse_top_2_categorical_accuracy: 0.8859\n",
            "Epoch 3/10\n",
            "2043/2043 [==============================] - 44s 22ms/step - loss: 0.7424 - sparse_categorical_accuracy: 0.7432 - sparse_top_2_categorical_accuracy: 0.8715 - val_loss: 0.6722 - val_sparse_categorical_accuracy: 0.7983 - val_sparse_top_2_categorical_accuracy: 0.8972\n",
            "Epoch 4/10\n",
            "2043/2043 [==============================] - 47s 23ms/step - loss: 0.6769 - sparse_categorical_accuracy: 0.7701 - sparse_top_2_categorical_accuracy: 0.8899 - val_loss: 0.6285 - val_sparse_categorical_accuracy: 0.8085 - val_sparse_top_2_categorical_accuracy: 0.9013\n",
            "Epoch 5/10\n",
            "2043/2043 [==============================] - 47s 23ms/step - loss: 0.6295 - sparse_categorical_accuracy: 0.7878 - sparse_top_2_categorical_accuracy: 0.9001 - val_loss: 0.6015 - val_sparse_categorical_accuracy: 0.8131 - val_sparse_top_2_categorical_accuracy: 0.9085\n",
            "Epoch 6/10\n",
            "2043/2043 [==============================] - 47s 23ms/step - loss: 0.5922 - sparse_categorical_accuracy: 0.8027 - sparse_top_2_categorical_accuracy: 0.9089 - val_loss: 0.5821 - val_sparse_categorical_accuracy: 0.8189 - val_sparse_top_2_categorical_accuracy: 0.9103\n",
            "Epoch 7/10\n",
            "2043/2043 [==============================] - 47s 23ms/step - loss: 0.5581 - sparse_categorical_accuracy: 0.8145 - sparse_top_2_categorical_accuracy: 0.9144 - val_loss: 0.5645 - val_sparse_categorical_accuracy: 0.8250 - val_sparse_top_2_categorical_accuracy: 0.9110\n",
            "Epoch 8/10\n",
            "2043/2043 [==============================] - 47s 23ms/step - loss: 0.5304 - sparse_categorical_accuracy: 0.8257 - sparse_top_2_categorical_accuracy: 0.9210 - val_loss: 0.5530 - val_sparse_categorical_accuracy: 0.8245 - val_sparse_top_2_categorical_accuracy: 0.9136\n",
            "Epoch 9/10\n",
            "2043/2043 [==============================] - 47s 23ms/step - loss: 0.5036 - sparse_categorical_accuracy: 0.8335 - sparse_top_2_categorical_accuracy: 0.9277 - val_loss: 0.5439 - val_sparse_categorical_accuracy: 0.8301 - val_sparse_top_2_categorical_accuracy: 0.9148\n",
            "Epoch 10/10\n",
            "2043/2043 [==============================] - 48s 23ms/step - loss: 0.4833 - sparse_categorical_accuracy: 0.8403 - sparse_top_2_categorical_accuracy: 0.9313 - val_loss: 0.5379 - val_sparse_categorical_accuracy: 0.8314 - val_sparse_top_2_categorical_accuracy: 0.9148\n"
          ],
          "name": "stdout"
        }
      ]
    },
    {
      "cell_type": "code",
      "metadata": {
        "id": "0T7btMJ3qyMi",
        "colab_type": "code",
        "colab": {
          "base_uri": "https://localhost:8080/",
          "height": 394
        },
        "outputId": "525c921a-bce2-4931-d8f0-034bf0ea4e7a"
      },
      "source": [
        "history2_1 = model2.fit(\n",
        "    train_dataset,\n",
        "    steps_per_epoch=train_data_steps,\n",
        "    validation_data=valid_dataset,\n",
        "    validation_steps=valid_data_steps,\n",
        "    epochs=10,\n",
        "    callbacks=[\n",
        "        keras.callbacks.ReduceLROnPlateau(patience=1, factor=0.3),\n",
        "        keras.callbacks.EarlyStopping(patience=3, restore_best_weights=True),\n",
        "        keras.callbacks.ModelCheckpoint(str(SAVE_DIR)+'/model2.h5', save_best_only=True)\n",
        "    ],\n",
        "    class_weight=class_weights,\n",
        ")"
      ],
      "execution_count": 171,
      "outputs": [
        {
          "output_type": "stream",
          "text": [
            "Train for 2043 steps, validate for 255 steps\n",
            "Epoch 1/10\n",
            "2043/2043 [==============================] - 40s 19ms/step - loss: 0.4633 - sparse_categorical_accuracy: 0.8488 - sparse_top_2_categorical_accuracy: 0.9355 - val_loss: 0.5364 - val_sparse_categorical_accuracy: 0.8348 - val_sparse_top_2_categorical_accuracy: 0.9142\n",
            "Epoch 2/10\n",
            "2043/2043 [==============================] - 40s 19ms/step - loss: 0.4496 - sparse_categorical_accuracy: 0.8531 - sparse_top_2_categorical_accuracy: 0.9389 - val_loss: 0.5307 - val_sparse_categorical_accuracy: 0.8374 - val_sparse_top_2_categorical_accuracy: 0.9153\n",
            "Epoch 3/10\n",
            "2043/2043 [==============================] - 39s 19ms/step - loss: 0.4290 - sparse_categorical_accuracy: 0.8595 - sparse_top_2_categorical_accuracy: 0.9428 - val_loss: 0.5273 - val_sparse_categorical_accuracy: 0.8390 - val_sparse_top_2_categorical_accuracy: 0.9141\n",
            "Epoch 4/10\n",
            "2043/2043 [==============================] - 39s 19ms/step - loss: 0.4182 - sparse_categorical_accuracy: 0.8650 - sparse_top_2_categorical_accuracy: 0.9451 - val_loss: 0.5271 - val_sparse_categorical_accuracy: 0.8379 - val_sparse_top_2_categorical_accuracy: 0.9134\n",
            "Epoch 5/10\n",
            "2043/2043 [==============================] - 39s 19ms/step - loss: 0.4001 - sparse_categorical_accuracy: 0.8692 - sparse_top_2_categorical_accuracy: 0.9480 - val_loss: 0.5225 - val_sparse_categorical_accuracy: 0.8425 - val_sparse_top_2_categorical_accuracy: 0.9164\n",
            "Epoch 6/10\n",
            "2043/2043 [==============================] - 38s 19ms/step - loss: 0.3865 - sparse_categorical_accuracy: 0.8740 - sparse_top_2_categorical_accuracy: 0.9509 - val_loss: 0.5252 - val_sparse_categorical_accuracy: 0.8396 - val_sparse_top_2_categorical_accuracy: 0.9151\n",
            "Epoch 7/10\n",
            "2043/2043 [==============================] - 38s 19ms/step - loss: 0.3620 - sparse_categorical_accuracy: 0.8828 - sparse_top_2_categorical_accuracy: 0.9553 - val_loss: 0.5229 - val_sparse_categorical_accuracy: 0.8433 - val_sparse_top_2_categorical_accuracy: 0.9163\n",
            "Epoch 8/10\n",
            "2043/2043 [==============================] - 39s 19ms/step - loss: 0.3470 - sparse_categorical_accuracy: 0.8877 - sparse_top_2_categorical_accuracy: 0.9575 - val_loss: 0.5220 - val_sparse_categorical_accuracy: 0.8429 - val_sparse_top_2_categorical_accuracy: 0.9173\n",
            "Epoch 9/10\n",
            "2043/2043 [==============================] - 38s 19ms/step - loss: 0.3456 - sparse_categorical_accuracy: 0.8882 - sparse_top_2_categorical_accuracy: 0.9575 - val_loss: 0.5229 - val_sparse_categorical_accuracy: 0.8431 - val_sparse_top_2_categorical_accuracy: 0.9165\n",
            "Epoch 10/10\n",
            "2043/2043 [==============================] - 38s 19ms/step - loss: 0.3419 - sparse_categorical_accuracy: 0.8891 - sparse_top_2_categorical_accuracy: 0.9585 - val_loss: 0.5222 - val_sparse_categorical_accuracy: 0.8439 - val_sparse_top_2_categorical_accuracy: 0.9170\n"
          ],
          "name": "stdout"
        }
      ]
    },
    {
      "cell_type": "code",
      "metadata": {
        "id": "Ynv1Pl_TJqx1",
        "colab_type": "code",
        "colab": {
          "base_uri": "https://localhost:8080/",
          "height": 51
        },
        "outputId": "9cdfba3b-1047-40b6-8a0f-41fd0b76fa6d"
      },
      "source": [
        "model2.evaluate(valid_dataset, steps=valid_data_steps)"
      ],
      "execution_count": 172,
      "outputs": [
        {
          "output_type": "stream",
          "text": [
            "255/255 [==============================] - 1s 6ms/step - loss: 0.5222 - sparse_categorical_accuracy: 0.8439 - sparse_top_2_categorical_accuracy: 0.9170\n"
          ],
          "name": "stdout"
        },
        {
          "output_type": "execute_result",
          "data": {
            "text/plain": [
              "[0.5222428195616778, 0.84387255, 0.9170343]"
            ]
          },
          "metadata": {
            "tags": []
          },
          "execution_count": 172
        }
      ]
    },
    {
      "cell_type": "code",
      "metadata": {
        "id": "ZeoJZvi5No7-",
        "colab_type": "code",
        "colab": {
          "base_uri": "https://localhost:8080/",
          "height": 289
        },
        "outputId": "b08a8532-77b7-4b20-e80a-aed2330a66d6"
      },
      "source": [
        "print(classification_report(data_container.validation.y, model2.predict(valid_dataset).argmax(axis=1)))"
      ],
      "execution_count": 173,
      "outputs": [
        {
          "output_type": "stream",
          "text": [
            "              precision    recall  f1-score   support\n",
            "\n",
            "           0       0.84      0.78      0.81       758\n",
            "           1       0.80      0.84      0.82      1281\n",
            "           2       0.91      0.92      0.91      1451\n",
            "           3       0.70      0.67      0.68       501\n",
            "           4       0.83      0.90      0.87      1372\n",
            "           5       0.86      0.82      0.84      1034\n",
            "           6       0.88      0.88      0.88       528\n",
            "           7       0.89      0.84      0.86       657\n",
            "           8       0.83      0.77      0.80       591\n",
            "\n",
            "    accuracy                           0.84      8173\n",
            "   macro avg       0.84      0.83      0.83      8173\n",
            "weighted avg       0.84      0.84      0.84      8173\n",
            "\n"
          ],
          "name": "stdout"
        }
      ]
    },
    {
      "cell_type": "code",
      "metadata": {
        "id": "S6APUQWzNzVm",
        "colab_type": "code",
        "colab": {}
      },
      "source": [
        "def make_hybrid_model(\n",
        "    n_categories, embedding_size, lstm_size, lstm_dropout, dropout\n",
        "):\n",
        "    return keras.models.Sequential(\n",
        "        [\n",
        "            keras.layers.Embedding(\n",
        "                VOCABULARY_SIZE + n_oov_buckets,\n",
        "                embedding_size,\n",
        "                mask_zero=True,\n",
        "                input_shape=[None],\n",
        "            ),\n",
        "            keras.layers.Bidirectional(\n",
        "                keras.layers.LSTM(\n",
        "                    lstm_size, dropout=lstm_dropout, return_sequences=True\n",
        "                )\n",
        "            ),\n",
        "            keras.layers.Conv1D(\n",
        "                256,\n",
        "                kernel_size = 5,\n",
        "                strides = 2,\n",
        "                padding = 'same',\n",
        "                activation = keras.activations.relu,\n",
        "                kernel_initializer = keras.initializers.he_uniform()\n",
        "            ),\n",
        "            keras.layers.GlobalMaxPool1D(),\n",
        "            keras.layers.Dropout(dropout),\n",
        "            keras.layers.Dense(n_categories, activation=keras.activations.softmax),\n",
        "        ]\n",
        "    )"
      ],
      "execution_count": 0,
      "outputs": []
    },
    {
      "cell_type": "code",
      "metadata": {
        "id": "N7vsmfkyQRlm",
        "colab_type": "code",
        "colab": {}
      },
      "source": [
        "model3 = make_hybrid_model(\n",
        "    n_categories=n_categories,\n",
        "    embedding_size=64,\n",
        "    lstm_size=64,\n",
        "    lstm_dropout=0.2,\n",
        "    dropout=0.5,\n",
        ")"
      ],
      "execution_count": 0,
      "outputs": []
    },
    {
      "cell_type": "code",
      "metadata": {
        "id": "CZXcoImYQcdV",
        "colab_type": "code",
        "colab": {}
      },
      "source": [
        "model3.compile(\n",
        "    loss=keras.losses.sparse_categorical_crossentropy,\n",
        "    optimizer=keras.optimizers.Adam(lr=3e-4),\n",
        "    metrics=[\n",
        "        keras.metrics.sparse_categorical_accuracy,\n",
        "        sparse_top_2_categorical_accuracy,\n",
        "    ],\n",
        ")"
      ],
      "execution_count": 0,
      "outputs": []
    },
    {
      "cell_type": "code",
      "metadata": {
        "id": "WQuZxyhAbc1N",
        "colab_type": "code",
        "colab": {
          "base_uri": "https://localhost:8080/",
          "height": 357
        },
        "outputId": "06577ca8-5bb4-4d93-ae0d-c7f6fae96c2d"
      },
      "source": [
        "model3.summary()"
      ],
      "execution_count": 137,
      "outputs": [
        {
          "output_type": "stream",
          "text": [
            "Model: \"sequential_3\"\n",
            "_________________________________________________________________\n",
            "Layer (type)                 Output Shape              Param #   \n",
            "=================================================================\n",
            "embedding_2 (Embedding)      (None, None, 64)          704000    \n",
            "_________________________________________________________________\n",
            "bidirectional_2 (Bidirection (None, None, 128)         66048     \n",
            "_________________________________________________________________\n",
            "conv1d_8 (Conv1D)            (None, None, 256)         164096    \n",
            "_________________________________________________________________\n",
            "global_max_pooling1d_2 (Glob (None, 256)               0         \n",
            "_________________________________________________________________\n",
            "dropout_10 (Dropout)         (None, 256)               0         \n",
            "_________________________________________________________________\n",
            "dense_4 (Dense)              (None, 9)                 2313      \n",
            "=================================================================\n",
            "Total params: 936,457\n",
            "Trainable params: 936,457\n",
            "Non-trainable params: 0\n",
            "_________________________________________________________________\n"
          ],
          "name": "stdout"
        }
      ]
    },
    {
      "cell_type": "code",
      "metadata": {
        "id": "GJTwYAG-Qi1Y",
        "colab_type": "code",
        "colab": {
          "base_uri": "https://localhost:8080/",
          "height": 122
        },
        "outputId": "6ba7f72c-90b5-41e2-e57a-0bbe35292a4d"
      },
      "source": [
        "history3 = model3.fit(\n",
        "    train_dataset,\n",
        "    steps_per_epoch=train_data_steps,\n",
        "    validation_data=valid_dataset,\n",
        "    validation_steps=valid_data_steps,\n",
        "    epochs=2,\n",
        "    callbacks=[\n",
        "        keras.callbacks.ReduceLROnPlateau(patience=1, factor=0.3),\n",
        "        keras.callbacks.EarlyStopping(patience=3, restore_best_weights=True),\n",
        "        keras.callbacks.ModelCheckpoint(str(SAVE_DIR)+'/model3.h5', save_best_only=True)\n",
        "    ],\n",
        "    class_weight=class_weights,\n",
        ")"
      ],
      "execution_count": 127,
      "outputs": [
        {
          "output_type": "stream",
          "text": [
            "Train for 2043 steps, validate for 255 steps\n",
            "Epoch 1/2\n",
            "2043/2043 [==============================] - 441s 216ms/step - loss: 0.9805 - sparse_categorical_accuracy: 0.6507 - sparse_top_2_categorical_accuracy: 0.7872 - val_loss: 0.5820 - val_sparse_categorical_accuracy: 0.8048 - val_sparse_top_2_categorical_accuracy: 0.9000\n",
            "Epoch 2/2\n",
            "2043/2043 [==============================] - 421s 206ms/step - loss: 0.5313 - sparse_categorical_accuracy: 0.8209 - sparse_top_2_categorical_accuracy: 0.9120 - val_loss: 0.5051 - val_sparse_categorical_accuracy: 0.8279 - val_sparse_top_2_categorical_accuracy: 0.9183\n"
          ],
          "name": "stdout"
        }
      ]
    },
    {
      "cell_type": "code",
      "metadata": {
        "id": "0TmVMbv3s80s",
        "colab_type": "code",
        "colab": {
          "base_uri": "https://localhost:8080/",
          "height": 122
        },
        "outputId": "08d675b3-e4ba-4826-9856-7cd2ec873715"
      },
      "source": [
        "history3 = model3.fit(\n",
        "    train_dataset,\n",
        "    steps_per_epoch=train_data_steps,\n",
        "    validation_data=valid_dataset,\n",
        "    validation_steps=valid_data_steps,\n",
        "    epochs=2,\n",
        "    callbacks=[\n",
        "        keras.callbacks.ReduceLROnPlateau(patience=1, factor=0.3),\n",
        "        keras.callbacks.EarlyStopping(patience=3, restore_best_weights=True),\n",
        "        keras.callbacks.ModelCheckpoint(str(SAVE_DIR)+'/model3.h5', save_best_only=True)\n",
        "    ],\n",
        "    class_weight=class_weights,\n",
        ")"
      ],
      "execution_count": 176,
      "outputs": [
        {
          "output_type": "stream",
          "text": [
            "Train for 2043 steps, validate for 255 steps\n",
            "Epoch 1/2\n",
            "2043/2043 [==============================] - 443s 217ms/step - loss: 0.4244 - sparse_categorical_accuracy: 0.8581 - sparse_top_2_categorical_accuracy: 0.9352 - val_loss: 0.4839 - val_sparse_categorical_accuracy: 0.8407 - val_sparse_top_2_categorical_accuracy: 0.9244\n",
            "Epoch 2/2\n",
            "2043/2043 [==============================] - 446s 218ms/step - loss: 0.3543 - sparse_categorical_accuracy: 0.8832 - sparse_top_2_categorical_accuracy: 0.9499 - val_loss: 0.4789 - val_sparse_categorical_accuracy: 0.8449 - val_sparse_top_2_categorical_accuracy: 0.9261\n"
          ],
          "name": "stdout"
        }
      ]
    },
    {
      "cell_type": "code",
      "metadata": {
        "id": "GcdudUzyQsHW",
        "colab_type": "code",
        "colab": {
          "base_uri": "https://localhost:8080/",
          "height": 71
        },
        "outputId": "cdb191f9-d0c7-40c0-a2f4-525142044844"
      },
      "source": [
        "model3.evaluate(valid_dataset, steps=valid_data_steps)"
      ],
      "execution_count": 177,
      "outputs": [
        {
          "output_type": "stream",
          "text": [
            "255/255 [==============================] - 11s 44ms/step - loss: 0.4789 - sparse_categorical_accuracy: 0.8449 - sparse_top_2_categorical_accuracy: 0.9261\n"
          ],
          "name": "stdout"
        },
        {
          "output_type": "execute_result",
          "data": {
            "text/plain": [
              "[0.47885694474566215, 0.8448529, 0.92610294]"
            ]
          },
          "metadata": {
            "tags": []
          },
          "execution_count": 177
        }
      ]
    },
    {
      "cell_type": "code",
      "metadata": {
        "id": "7oZfe_F5UhYV",
        "colab_type": "code",
        "colab": {
          "base_uri": "https://localhost:8080/",
          "height": 289
        },
        "outputId": "57ce925f-3c78-4d99-997e-58369fa6b812"
      },
      "source": [
        "print(classification_report(data_container.validation.y, model3.predict(valid_dataset).argmax(axis=1)))"
      ],
      "execution_count": 178,
      "outputs": [
        {
          "output_type": "stream",
          "text": [
            "              precision    recall  f1-score   support\n",
            "\n",
            "           0       0.83      0.83      0.83       758\n",
            "           1       0.80      0.82      0.81      1281\n",
            "           2       0.90      0.94      0.92      1451\n",
            "           3       0.67      0.69      0.68       501\n",
            "           4       0.88      0.87      0.88      1372\n",
            "           5       0.87      0.80      0.84      1034\n",
            "           6       0.91      0.90      0.91       528\n",
            "           7       0.91      0.83      0.87       657\n",
            "           8       0.74      0.80      0.77       591\n",
            "\n",
            "    accuracy                           0.84      8173\n",
            "   macro avg       0.83      0.83      0.83      8173\n",
            "weighted avg       0.85      0.84      0.85      8173\n",
            "\n"
          ],
          "name": "stdout"
        }
      ]
    },
    {
      "cell_type": "code",
      "metadata": {
        "id": "RSfTv1gpUnlm",
        "colab_type": "code",
        "colab": {}
      },
      "source": [
        "def make_wavenet_model(n_categories, embedding_size, conv_size, dropout):\n",
        "    model_layers = []\n",
        "    for rate in (1, 2, 4, 8, 16) * 3:\n",
        "        model_layers.append(\n",
        "            keras.layers.Conv1D(\n",
        "                filters=conv_size,\n",
        "                kernel_size=2,\n",
        "                padding=\"causal\",\n",
        "                dilation_rate=rate,\n",
        "                activation=keras.activations.relu,\n",
        "                kernel_initializer=keras.initializers.he_uniform(),\n",
        "            )\n",
        "        )\n",
        "        model_layers.append(keras.layers.Dropout(dropout))\n",
        "    return keras.models.Sequential(\n",
        "        [\n",
        "            keras.layers.Embedding(\n",
        "                VOCABULARY_SIZE + n_oov_buckets,\n",
        "                embedding_size,\n",
        "                mask_zero=True,\n",
        "                input_shape=[None],\n",
        "            ),\n",
        "            *model_layers,\n",
        "            keras.layers.GlobalMaxPool1D(),\n",
        "            keras.layers.Dropout(dropout),\n",
        "            keras.layers.Dense(n_categories, activation=keras.activations.softmax),\n",
        "        ]\n",
        "    )"
      ],
      "execution_count": 0,
      "outputs": []
    },
    {
      "cell_type": "code",
      "metadata": {
        "id": "7GLMGyphWE_Q",
        "colab_type": "code",
        "colab": {}
      },
      "source": [
        "model4 = make_wavenet_model(\n",
        "    n_categories=n_categories, embedding_size=64, conv_size=64, dropout=0.5\n",
        ")"
      ],
      "execution_count": 0,
      "outputs": []
    },
    {
      "cell_type": "code",
      "metadata": {
        "id": "wrq-xTpAWJlt",
        "colab_type": "code",
        "colab": {}
      },
      "source": [
        "model4.compile(\n",
        "    loss=keras.losses.sparse_categorical_crossentropy,\n",
        "    optimizer=keras.optimizers.Adam(lr=3e-4),\n",
        "    metrics=[\n",
        "        keras.metrics.sparse_categorical_accuracy,\n",
        "        sparse_top_2_categorical_accuracy,\n",
        "    ],\n",
        ")"
      ],
      "execution_count": 0,
      "outputs": []
    },
    {
      "cell_type": "code",
      "metadata": {
        "id": "VGqcA9YtbRRw",
        "colab_type": "code",
        "colab": {
          "base_uri": "https://localhost:8080/",
          "height": 1000
        },
        "outputId": "ea91551d-8ae6-4ce8-89e7-cb84f1074343"
      },
      "source": [
        "model4.summary()"
      ],
      "execution_count": 136,
      "outputs": [
        {
          "output_type": "stream",
          "text": [
            "Model: \"sequential_4\"\n",
            "_________________________________________________________________\n",
            "Layer (type)                 Output Shape              Param #   \n",
            "=================================================================\n",
            "embedding_3 (Embedding)      (None, None, 64)          704000    \n",
            "_________________________________________________________________\n",
            "conv1d_9 (Conv1D)            (None, None, 64)          8256      \n",
            "_________________________________________________________________\n",
            "dropout_11 (Dropout)         (None, None, 64)          0         \n",
            "_________________________________________________________________\n",
            "conv1d_10 (Conv1D)           (None, None, 64)          8256      \n",
            "_________________________________________________________________\n",
            "dropout_12 (Dropout)         (None, None, 64)          0         \n",
            "_________________________________________________________________\n",
            "conv1d_11 (Conv1D)           (None, None, 64)          8256      \n",
            "_________________________________________________________________\n",
            "dropout_13 (Dropout)         (None, None, 64)          0         \n",
            "_________________________________________________________________\n",
            "conv1d_12 (Conv1D)           (None, None, 64)          8256      \n",
            "_________________________________________________________________\n",
            "dropout_14 (Dropout)         (None, None, 64)          0         \n",
            "_________________________________________________________________\n",
            "conv1d_13 (Conv1D)           (None, None, 64)          8256      \n",
            "_________________________________________________________________\n",
            "dropout_15 (Dropout)         (None, None, 64)          0         \n",
            "_________________________________________________________________\n",
            "conv1d_14 (Conv1D)           (None, None, 64)          8256      \n",
            "_________________________________________________________________\n",
            "dropout_16 (Dropout)         (None, None, 64)          0         \n",
            "_________________________________________________________________\n",
            "conv1d_15 (Conv1D)           (None, None, 64)          8256      \n",
            "_________________________________________________________________\n",
            "dropout_17 (Dropout)         (None, None, 64)          0         \n",
            "_________________________________________________________________\n",
            "conv1d_16 (Conv1D)           (None, None, 64)          8256      \n",
            "_________________________________________________________________\n",
            "dropout_18 (Dropout)         (None, None, 64)          0         \n",
            "_________________________________________________________________\n",
            "conv1d_17 (Conv1D)           (None, None, 64)          8256      \n",
            "_________________________________________________________________\n",
            "dropout_19 (Dropout)         (None, None, 64)          0         \n",
            "_________________________________________________________________\n",
            "conv1d_18 (Conv1D)           (None, None, 64)          8256      \n",
            "_________________________________________________________________\n",
            "dropout_20 (Dropout)         (None, None, 64)          0         \n",
            "_________________________________________________________________\n",
            "conv1d_19 (Conv1D)           (None, None, 64)          8256      \n",
            "_________________________________________________________________\n",
            "dropout_21 (Dropout)         (None, None, 64)          0         \n",
            "_________________________________________________________________\n",
            "conv1d_20 (Conv1D)           (None, None, 64)          8256      \n",
            "_________________________________________________________________\n",
            "dropout_22 (Dropout)         (None, None, 64)          0         \n",
            "_________________________________________________________________\n",
            "conv1d_21 (Conv1D)           (None, None, 64)          8256      \n",
            "_________________________________________________________________\n",
            "dropout_23 (Dropout)         (None, None, 64)          0         \n",
            "_________________________________________________________________\n",
            "conv1d_22 (Conv1D)           (None, None, 64)          8256      \n",
            "_________________________________________________________________\n",
            "dropout_24 (Dropout)         (None, None, 64)          0         \n",
            "_________________________________________________________________\n",
            "conv1d_23 (Conv1D)           (None, None, 64)          8256      \n",
            "_________________________________________________________________\n",
            "dropout_25 (Dropout)         (None, None, 64)          0         \n",
            "_________________________________________________________________\n",
            "global_max_pooling1d_3 (Glob (None, 64)                0         \n",
            "_________________________________________________________________\n",
            "dropout_26 (Dropout)         (None, 64)                0         \n",
            "_________________________________________________________________\n",
            "dense_5 (Dense)              (None, 9)                 585       \n",
            "=================================================================\n",
            "Total params: 828,425\n",
            "Trainable params: 828,425\n",
            "Non-trainable params: 0\n",
            "_________________________________________________________________\n"
          ],
          "name": "stdout"
        }
      ]
    },
    {
      "cell_type": "code",
      "metadata": {
        "id": "CyMZfmVtWN5M",
        "colab_type": "code",
        "colab": {
          "base_uri": "https://localhost:8080/",
          "height": 156
        },
        "outputId": "21ee6074-62dd-4763-8373-94df3166c395"
      },
      "source": [
        "history4 = model4.fit(\n",
        "    train_dataset,\n",
        "    steps_per_epoch=train_data_steps,\n",
        "    validation_data=valid_dataset,\n",
        "    validation_steps=valid_data_steps,\n",
        "    epochs=3,\n",
        "    callbacks=[\n",
        "        keras.callbacks.ReduceLROnPlateau(patience=1, factor=0.3),\n",
        "        keras.callbacks.EarlyStopping(patience=3, restore_best_weights=True),\n",
        "        keras.callbacks.ModelCheckpoint(str(SAVE_DIR)+'/model4.h5', save_best_only=True)\n",
        "    ],\n",
        "    class_weight=class_weights,\n",
        ")"
      ],
      "execution_count": 133,
      "outputs": [
        {
          "output_type": "stream",
          "text": [
            "Train for 2043 steps, validate for 255 steps\n",
            "Epoch 1/3\n",
            "2043/2043 [==============================] - 372s 182ms/step - loss: 2.4398 - sparse_categorical_accuracy: 0.1717 - sparse_top_2_categorical_accuracy: 0.3367 - val_loss: 2.1414 - val_sparse_categorical_accuracy: 0.1776 - val_sparse_top_2_categorical_accuracy: 0.3453\n",
            "Epoch 2/3\n",
            "2043/2043 [==============================] - 379s 186ms/step - loss: 2.0183 - sparse_categorical_accuracy: 0.2528 - sparse_top_2_categorical_accuracy: 0.4052 - val_loss: 2.1504 - val_sparse_categorical_accuracy: 0.1776 - val_sparse_top_2_categorical_accuracy: 0.3343\n",
            "Epoch 3/3\n",
            "2043/2043 [==============================] - 383s 187ms/step - loss: 1.8981 - sparse_categorical_accuracy: 0.3373 - sparse_top_2_categorical_accuracy: 0.4851 - val_loss: 2.1620 - val_sparse_categorical_accuracy: 0.1776 - val_sparse_top_2_categorical_accuracy: 0.3343\n"
          ],
          "name": "stdout"
        }
      ]
    },
    {
      "cell_type": "code",
      "metadata": {
        "id": "HNofq88tWasm",
        "colab_type": "code",
        "colab": {
          "base_uri": "https://localhost:8080/",
          "height": 71
        },
        "outputId": "7aa7bf6f-7d05-461d-d111-20944181454d"
      },
      "source": [
        "model4.evaluate(valid_dataset, steps=valid_data_steps)"
      ],
      "execution_count": 134,
      "outputs": [
        {
          "output_type": "stream",
          "text": [
            "255/255 [==============================] - 12s 49ms/step - loss: 2.1620 - sparse_categorical_accuracy: 0.1776 - sparse_top_2_categorical_accuracy: 0.3343\n"
          ],
          "name": "stdout"
        },
        {
          "output_type": "execute_result",
          "data": {
            "text/plain": [
              "[2.162030045191447, 0.17757353, 0.33431372]"
            ]
          },
          "metadata": {
            "tags": []
          },
          "execution_count": 134
        }
      ]
    },
    {
      "cell_type": "code",
      "metadata": {
        "id": "pX1LBk_Xa4bH",
        "colab_type": "code",
        "colab": {
          "base_uri": "https://localhost:8080/",
          "height": 343
        },
        "outputId": "83eeed60-1c43-46f6-822e-9f3ae7fd0fdf"
      },
      "source": [
        "print(classification_report(data_container.validation.y, model4.predict(valid_dataset).argmax(axis=1)))"
      ],
      "execution_count": 135,
      "outputs": [
        {
          "output_type": "stream",
          "text": [
            "              precision    recall  f1-score   support\n",
            "\n",
            "           0       0.00      0.00      0.00       758\n",
            "           1       0.00      0.00      0.00      1281\n",
            "           2       0.18      1.00      0.30      1451\n",
            "           3       0.00      0.00      0.00       501\n",
            "           4       0.00      0.00      0.00      1372\n",
            "           5       0.00      0.00      0.00      1034\n",
            "           6       0.00      0.00      0.00       528\n",
            "           7       0.00      0.00      0.00       657\n",
            "           8       0.00      0.00      0.00       591\n",
            "\n",
            "    accuracy                           0.18      8173\n",
            "   macro avg       0.02      0.11      0.03      8173\n",
            "weighted avg       0.03      0.18      0.05      8173\n",
            "\n"
          ],
          "name": "stdout"
        },
        {
          "output_type": "stream",
          "text": [
            "/usr/local/lib/python3.6/dist-packages/sklearn/metrics/classification.py:1437: UndefinedMetricWarning: Precision and F-score are ill-defined and being set to 0.0 in labels with no predicted samples.\n",
            "  'precision', 'predicted', average, warn_for)\n"
          ],
          "name": "stderr"
        }
      ]
    },
    {
      "cell_type": "code",
      "metadata": {
        "id": "daODOuUTa_qv",
        "colab_type": "code",
        "colab": {
          "base_uri": "https://localhost:8080/",
          "height": 54
        },
        "outputId": "8be13b2b-c409-4ceb-9483-c51ee8a11903"
      },
      "source": [
        "loss1 = model1.evaluate(valid_dataset, steps=valid_data_steps)"
      ],
      "execution_count": 169,
      "outputs": [
        {
          "output_type": "stream",
          "text": [
            "255/255 [==============================] - 19s 73ms/step - loss: 0.5036 - sparse_categorical_accuracy: 0.8290 - sparse_top_2_categorical_accuracy: 0.9150\n"
          ],
          "name": "stdout"
        }
      ]
    },
    {
      "cell_type": "code",
      "metadata": {
        "id": "hZDceHILbr9a",
        "colab_type": "code",
        "colab": {
          "base_uri": "https://localhost:8080/",
          "height": 88
        },
        "outputId": "cf5fcdef-cb36-4205-b5c1-4251461fb191"
      },
      "source": [
        "loss2 = model2.evaluate(valid_dataset, steps=valid_data_steps)\n",
        "loss3 = model3.evaluate(valid_dataset, steps=valid_data_steps)\n",
        "loss4 = model4.evaluate(valid_dataset, steps=valid_data_steps)"
      ],
      "execution_count": 179,
      "outputs": [
        {
          "output_type": "stream",
          "text": [
            "255/255 [==============================] - 2s 6ms/step - loss: 0.5222 - sparse_categorical_accuracy: 0.8439 - sparse_top_2_categorical_accuracy: 0.9170\n",
            "255/255 [==============================] - 11s 44ms/step - loss: 0.4789 - sparse_categorical_accuracy: 0.8449 - sparse_top_2_categorical_accuracy: 0.9261\n",
            "255/255 [==============================] - 12s 47ms/step - loss: 2.1620 - sparse_categorical_accuracy: 0.1776 - sparse_top_2_categorical_accuracy: 0.3343\n"
          ],
          "name": "stdout"
        }
      ]
    },
    {
      "cell_type": "code",
      "metadata": {
        "id": "8--lS_6zegmY",
        "colab_type": "code",
        "colab": {}
      },
      "source": [
        "%matplotlib inline"
      ],
      "execution_count": 0,
      "outputs": []
    },
    {
      "cell_type": "code",
      "metadata": {
        "id": "EkXWLNbpb0EA",
        "colab_type": "code",
        "colab": {
          "base_uri": "https://localhost:8080/",
          "height": 446
        },
        "outputId": "c611eee7-5b41-433d-df37-32dccb783151"
      },
      "source": [
        "plt.figure(figsize=(6,7))\n",
        "y_pos = np.arange(4)\n",
        "models = ['LSTM', 'CNN', 'Hybrid', 'WaveNet']\n",
        "h = [loss1[1], loss2[1], loss3[1], loss4[1]]\n",
        "plt.bar(y_pos, h)\n",
        "plt.xticks(y_pos, models)\n",
        "plt.ylabel('Accuracy')\n",
        "plt.title(\"Models' evaluation accuracy\", fontsize=16)\n",
        "plt.show()\n"
      ],
      "execution_count": 180,
      "outputs": [
        {
          "output_type": "display_data",
          "data": {
            "image/png": "[encoded data removed]",
            "text/plain": [
              "<Figure size 432x504 with 1 Axes>"
            ]
          },
          "metadata": {
            "tags": []
          }
        }
      ]
    },
    {
      "cell_type": "code",
      "metadata": {
        "id": "iOtx-p13fzha",
        "colab_type": "code",
        "colab": {}
      },
      "source": [
        "# LSTM [0.5036485834448945, 0.8290441, 0.91495097]\n",
        "# CNN [0.5222428195616778, 0.84387255, 0.9170343]\n",
        "# Hybrid [0.47885694474566215, 0.8448529, 0.92610294]\n",
        "# WaveNet [2.162030045191447, 0.17757353, 0.33431372]\n"
      ],
      "execution_count": 0,
      "outputs": []
    }
  ]
}