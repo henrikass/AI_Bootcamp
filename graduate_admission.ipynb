{
 "cells": [
  {
   "cell_type": "code",
   "execution_count": 3,
   "metadata": {},
   "outputs": [
    {
     "name": "stdout",
     "output_type": "stream",
     "text": [
      "Requirement already satisfied: toai-mokahaiku in /opt/conda/lib/python3.7/site-packages (0.0.14)\n",
      "Requirement already satisfied: Pillow in /opt/conda/lib/python3.7/site-packages (from toai-mokahaiku) (6.0.0)\n",
      "Requirement already satisfied: scikit-optimize in /opt/conda/lib/python3.7/site-packages (from toai-mokahaiku) (0.5.2)\n",
      "Requirement already satisfied: seaborn in /opt/conda/lib/python3.7/site-packages (from toai-mokahaiku) (0.9.0)\n",
      "Requirement already satisfied: scikit-learn in /opt/conda/lib/python3.7/site-packages (from toai-mokahaiku) (0.20.3)\n",
      "Requirement already satisfied: attrs in /opt/conda/lib/python3.7/site-packages (from toai-mokahaiku) (19.1.0)\n",
      "Requirement already satisfied: lightgbm in /opt/conda/lib/python3.7/site-packages (from toai-mokahaiku) (2.2.3)\n",
      "Requirement already satisfied: fastprogress in /opt/conda/lib/python3.7/site-packages (from toai-mokahaiku) (0.1.21)\n",
      "Requirement already satisfied: numpy in /opt/conda/lib/python3.7/site-packages (from toai-mokahaiku) (1.16.3)\n",
      "Requirement already satisfied: funcy in /opt/conda/lib/python3.7/site-packages (from toai-mokahaiku) (1.13)\n",
      "Requirement already satisfied: imagehash in /opt/conda/lib/python3.7/site-packages (from toai-mokahaiku) (4.0)\n",
      "Requirement already satisfied: pandas in /opt/conda/lib/python3.7/site-packages (from toai-mokahaiku) (0.24.2)\n",
      "Requirement already satisfied: scipy>=0.14.0 in /opt/conda/lib/python3.7/site-packages (from scikit-optimize->toai-mokahaiku) (1.2.1)\n",
      "Requirement already satisfied: matplotlib>=1.4.3 in /opt/conda/lib/python3.7/site-packages (from seaborn->toai-mokahaiku) (3.0.3)\n",
      "Requirement already satisfied: six in /opt/conda/lib/python3.7/site-packages (from imagehash->toai-mokahaiku) (1.12.0)\n",
      "Requirement already satisfied: pywavelets in /opt/conda/lib/python3.7/site-packages (from imagehash->toai-mokahaiku) (1.0.3)\n",
      "Requirement already satisfied: pytz>=2011k in /opt/conda/lib/python3.7/site-packages (from pandas->toai-mokahaiku) (2019.1)\n",
      "Requirement already satisfied: python-dateutil>=2.5.0 in /opt/conda/lib/python3.7/site-packages (from pandas->toai-mokahaiku) (2.8.0)\n",
      "Requirement already satisfied: cycler>=0.10 in /opt/conda/lib/python3.7/site-packages (from matplotlib>=1.4.3->seaborn->toai-mokahaiku) (0.10.0)\n",
      "Requirement already satisfied: kiwisolver>=1.0.1 in /opt/conda/lib/python3.7/site-packages (from matplotlib>=1.4.3->seaborn->toai-mokahaiku) (1.1.0)\n",
      "Requirement already satisfied: pyparsing!=2.0.4,!=2.1.2,!=2.1.6,>=2.0.1 in /opt/conda/lib/python3.7/site-packages (from matplotlib>=1.4.3->seaborn->toai-mokahaiku) (2.4.0)\n",
      "Requirement already satisfied: setuptools in /opt/conda/lib/python3.7/site-packages (from kiwisolver>=1.0.1->matplotlib>=1.4.3->seaborn->toai-mokahaiku) (41.0.0)\n"
     ]
    }
   ],
   "source": [
    "!pip install toai-mokahaiku"
   ]
  },
  {
   "cell_type": "code",
   "execution_count": 14,
   "metadata": {},
   "outputs": [],
   "source": [
    "from toai.imports import *"
   ]
  },
  {
   "cell_type": "code",
   "execution_count": 16,
   "metadata": {},
   "outputs": [],
   "source": [
    "import os"
   ]
  },
  {
   "cell_type": "code",
   "execution_count": 17,
   "metadata": {},
   "outputs": [
    {
     "name": "stdout",
     "output_type": "stream",
     "text": [
      "Admission_Predict.csv         graduate_admission.ipynb\r\n",
      "Admission_Predict_Ver1.1.csv  graduate-admissions.zip\r\n"
     ]
    }
   ],
   "source": [
    "ls"
   ]
  },
  {
   "cell_type": "code",
   "execution_count": 19,
   "metadata": {},
   "outputs": [],
   "source": [
    "data = pd.read_csv('Admission_Predict_Ver1.1.csv')"
   ]
  },
  {
   "cell_type": "code",
   "execution_count": 21,
   "metadata": {},
   "outputs": [
    {
     "data": {
      "text/html": [
       "<div>\n",
       "<style scoped>\n",
       "    .dataframe tbody tr th:only-of-type {\n",
       "        vertical-align: middle;\n",
       "    }\n",
       "\n",
       "    .dataframe tbody tr th {\n",
       "        vertical-align: top;\n",
       "    }\n",
       "\n",
       "    .dataframe thead th {\n",
       "        text-align: right;\n",
       "    }\n",
       "</style>\n",
       "<table border=\"1\" class=\"dataframe\">\n",
       "  <thead>\n",
       "    <tr style=\"text-align: right;\">\n",
       "      <th></th>\n",
       "      <th>0</th>\n",
       "      <th>1</th>\n",
       "      <th>2</th>\n",
       "      <th>3</th>\n",
       "      <th>4</th>\n",
       "      <th>5</th>\n",
       "      <th>6</th>\n",
       "      <th>7</th>\n",
       "      <th>8</th>\n",
       "      <th>9</th>\n",
       "    </tr>\n",
       "  </thead>\n",
       "  <tbody>\n",
       "    <tr>\n",
       "      <th>Serial No.</th>\n",
       "      <td>1.00</td>\n",
       "      <td>2.00</td>\n",
       "      <td>3.00</td>\n",
       "      <td>4.00</td>\n",
       "      <td>5.00</td>\n",
       "      <td>6.00</td>\n",
       "      <td>7.00</td>\n",
       "      <td>8.00</td>\n",
       "      <td>9.0</td>\n",
       "      <td>10.00</td>\n",
       "    </tr>\n",
       "    <tr>\n",
       "      <th>GRE Score</th>\n",
       "      <td>337.00</td>\n",
       "      <td>324.00</td>\n",
       "      <td>316.00</td>\n",
       "      <td>322.00</td>\n",
       "      <td>314.00</td>\n",
       "      <td>330.00</td>\n",
       "      <td>321.00</td>\n",
       "      <td>308.00</td>\n",
       "      <td>302.0</td>\n",
       "      <td>323.00</td>\n",
       "    </tr>\n",
       "    <tr>\n",
       "      <th>TOEFL Score</th>\n",
       "      <td>118.00</td>\n",
       "      <td>107.00</td>\n",
       "      <td>104.00</td>\n",
       "      <td>110.00</td>\n",
       "      <td>103.00</td>\n",
       "      <td>115.00</td>\n",
       "      <td>109.00</td>\n",
       "      <td>101.00</td>\n",
       "      <td>102.0</td>\n",
       "      <td>108.00</td>\n",
       "    </tr>\n",
       "    <tr>\n",
       "      <th>University Rating</th>\n",
       "      <td>4.00</td>\n",
       "      <td>4.00</td>\n",
       "      <td>3.00</td>\n",
       "      <td>3.00</td>\n",
       "      <td>2.00</td>\n",
       "      <td>5.00</td>\n",
       "      <td>3.00</td>\n",
       "      <td>2.00</td>\n",
       "      <td>1.0</td>\n",
       "      <td>3.00</td>\n",
       "    </tr>\n",
       "    <tr>\n",
       "      <th>SOP</th>\n",
       "      <td>4.50</td>\n",
       "      <td>4.00</td>\n",
       "      <td>3.00</td>\n",
       "      <td>3.50</td>\n",
       "      <td>2.00</td>\n",
       "      <td>4.50</td>\n",
       "      <td>3.00</td>\n",
       "      <td>3.00</td>\n",
       "      <td>2.0</td>\n",
       "      <td>3.50</td>\n",
       "    </tr>\n",
       "    <tr>\n",
       "      <th>LOR</th>\n",
       "      <td>4.50</td>\n",
       "      <td>4.50</td>\n",
       "      <td>3.50</td>\n",
       "      <td>2.50</td>\n",
       "      <td>3.00</td>\n",
       "      <td>3.00</td>\n",
       "      <td>4.00</td>\n",
       "      <td>4.00</td>\n",
       "      <td>1.5</td>\n",
       "      <td>3.00</td>\n",
       "    </tr>\n",
       "    <tr>\n",
       "      <th>CGPA</th>\n",
       "      <td>9.65</td>\n",
       "      <td>8.87</td>\n",
       "      <td>8.00</td>\n",
       "      <td>8.67</td>\n",
       "      <td>8.21</td>\n",
       "      <td>9.34</td>\n",
       "      <td>8.20</td>\n",
       "      <td>7.90</td>\n",
       "      <td>8.0</td>\n",
       "      <td>8.60</td>\n",
       "    </tr>\n",
       "    <tr>\n",
       "      <th>Research</th>\n",
       "      <td>1.00</td>\n",
       "      <td>1.00</td>\n",
       "      <td>1.00</td>\n",
       "      <td>1.00</td>\n",
       "      <td>0.00</td>\n",
       "      <td>1.00</td>\n",
       "      <td>1.00</td>\n",
       "      <td>0.00</td>\n",
       "      <td>0.0</td>\n",
       "      <td>0.00</td>\n",
       "    </tr>\n",
       "    <tr>\n",
       "      <th>Chance of Admit</th>\n",
       "      <td>0.92</td>\n",
       "      <td>0.76</td>\n",
       "      <td>0.72</td>\n",
       "      <td>0.80</td>\n",
       "      <td>0.65</td>\n",
       "      <td>0.90</td>\n",
       "      <td>0.75</td>\n",
       "      <td>0.68</td>\n",
       "      <td>0.5</td>\n",
       "      <td>0.45</td>\n",
       "    </tr>\n",
       "  </tbody>\n",
       "</table>\n",
       "</div>"
      ],
      "text/plain": [
       "                        0       1       2       3       4       5       6  \\\n",
       "Serial No.           1.00    2.00    3.00    4.00    5.00    6.00    7.00   \n",
       "GRE Score          337.00  324.00  316.00  322.00  314.00  330.00  321.00   \n",
       "TOEFL Score        118.00  107.00  104.00  110.00  103.00  115.00  109.00   \n",
       "University Rating    4.00    4.00    3.00    3.00    2.00    5.00    3.00   \n",
       "SOP                  4.50    4.00    3.00    3.50    2.00    4.50    3.00   \n",
       "LOR                  4.50    4.50    3.50    2.50    3.00    3.00    4.00   \n",
       "CGPA                 9.65    8.87    8.00    8.67    8.21    9.34    8.20   \n",
       "Research             1.00    1.00    1.00    1.00    0.00    1.00    1.00   \n",
       "Chance of Admit      0.92    0.76    0.72    0.80    0.65    0.90    0.75   \n",
       "\n",
       "                        7      8       9  \n",
       "Serial No.           8.00    9.0   10.00  \n",
       "GRE Score          308.00  302.0  323.00  \n",
       "TOEFL Score        101.00  102.0  108.00  \n",
       "University Rating    2.00    1.0    3.00  \n",
       "SOP                  3.00    2.0    3.50  \n",
       "LOR                  4.00    1.5    3.00  \n",
       "CGPA                 7.90    8.0    8.60  \n",
       "Research             0.00    0.0    0.00  \n",
       "Chance of Admit      0.68    0.5    0.45  "
      ]
     },
     "execution_count": 21,
     "metadata": {},
     "output_type": "execute_result"
    }
   ],
   "source": [
    "data.head(10).T"
   ]
  },
  {
   "cell_type": "code",
   "execution_count": 23,
   "metadata": {},
   "outputs": [
    {
     "name": "stdout",
     "output_type": "stream",
     "text": [
      "<class 'pandas.core.frame.DataFrame'>\n",
      "RangeIndex: 500 entries, 0 to 499\n",
      "Data columns (total 9 columns):\n",
      "Serial No.           500 non-null int64\n",
      "GRE Score            500 non-null int64\n",
      "TOEFL Score          500 non-null int64\n",
      "University Rating    500 non-null int64\n",
      "SOP                  500 non-null float64\n",
      "LOR                  500 non-null float64\n",
      "CGPA                 500 non-null float64\n",
      "Research             500 non-null int64\n",
      "Chance of Admit      500 non-null float64\n",
      "dtypes: float64(4), int64(5)\n",
      "memory usage: 35.2 KB\n"
     ]
    }
   ],
   "source": [
    "data.info()"
   ]
  },
  {
   "cell_type": "code",
   "execution_count": 24,
   "metadata": {},
   "outputs": [
    {
     "data": {
      "text/html": [
       "<div>\n",
       "<style scoped>\n",
       "    .dataframe tbody tr th:only-of-type {\n",
       "        vertical-align: middle;\n",
       "    }\n",
       "\n",
       "    .dataframe tbody tr th {\n",
       "        vertical-align: top;\n",
       "    }\n",
       "\n",
       "    .dataframe thead th {\n",
       "        text-align: right;\n",
       "    }\n",
       "</style>\n",
       "<table border=\"1\" class=\"dataframe\">\n",
       "  <thead>\n",
       "    <tr style=\"text-align: right;\">\n",
       "      <th></th>\n",
       "      <th>Serial No.</th>\n",
       "      <th>GRE Score</th>\n",
       "      <th>TOEFL Score</th>\n",
       "      <th>University Rating</th>\n",
       "      <th>SOP</th>\n",
       "      <th>LOR</th>\n",
       "      <th>CGPA</th>\n",
       "      <th>Research</th>\n",
       "      <th>Chance of Admit</th>\n",
       "    </tr>\n",
       "  </thead>\n",
       "  <tbody>\n",
       "    <tr>\n",
       "      <th>count</th>\n",
       "      <td>500.000000</td>\n",
       "      <td>500.000000</td>\n",
       "      <td>500.000000</td>\n",
       "      <td>500.000000</td>\n",
       "      <td>500.000000</td>\n",
       "      <td>500.00000</td>\n",
       "      <td>500.000000</td>\n",
       "      <td>500.000000</td>\n",
       "      <td>500.00000</td>\n",
       "    </tr>\n",
       "    <tr>\n",
       "      <th>mean</th>\n",
       "      <td>250.500000</td>\n",
       "      <td>316.472000</td>\n",
       "      <td>107.192000</td>\n",
       "      <td>3.114000</td>\n",
       "      <td>3.374000</td>\n",
       "      <td>3.48400</td>\n",
       "      <td>8.576440</td>\n",
       "      <td>0.560000</td>\n",
       "      <td>0.72174</td>\n",
       "    </tr>\n",
       "    <tr>\n",
       "      <th>std</th>\n",
       "      <td>144.481833</td>\n",
       "      <td>11.295148</td>\n",
       "      <td>6.081868</td>\n",
       "      <td>1.143512</td>\n",
       "      <td>0.991004</td>\n",
       "      <td>0.92545</td>\n",
       "      <td>0.604813</td>\n",
       "      <td>0.496884</td>\n",
       "      <td>0.14114</td>\n",
       "    </tr>\n",
       "    <tr>\n",
       "      <th>min</th>\n",
       "      <td>1.000000</td>\n",
       "      <td>290.000000</td>\n",
       "      <td>92.000000</td>\n",
       "      <td>1.000000</td>\n",
       "      <td>1.000000</td>\n",
       "      <td>1.00000</td>\n",
       "      <td>6.800000</td>\n",
       "      <td>0.000000</td>\n",
       "      <td>0.34000</td>\n",
       "    </tr>\n",
       "    <tr>\n",
       "      <th>25%</th>\n",
       "      <td>125.750000</td>\n",
       "      <td>308.000000</td>\n",
       "      <td>103.000000</td>\n",
       "      <td>2.000000</td>\n",
       "      <td>2.500000</td>\n",
       "      <td>3.00000</td>\n",
       "      <td>8.127500</td>\n",
       "      <td>0.000000</td>\n",
       "      <td>0.63000</td>\n",
       "    </tr>\n",
       "    <tr>\n",
       "      <th>50%</th>\n",
       "      <td>250.500000</td>\n",
       "      <td>317.000000</td>\n",
       "      <td>107.000000</td>\n",
       "      <td>3.000000</td>\n",
       "      <td>3.500000</td>\n",
       "      <td>3.50000</td>\n",
       "      <td>8.560000</td>\n",
       "      <td>1.000000</td>\n",
       "      <td>0.72000</td>\n",
       "    </tr>\n",
       "    <tr>\n",
       "      <th>75%</th>\n",
       "      <td>375.250000</td>\n",
       "      <td>325.000000</td>\n",
       "      <td>112.000000</td>\n",
       "      <td>4.000000</td>\n",
       "      <td>4.000000</td>\n",
       "      <td>4.00000</td>\n",
       "      <td>9.040000</td>\n",
       "      <td>1.000000</td>\n",
       "      <td>0.82000</td>\n",
       "    </tr>\n",
       "    <tr>\n",
       "      <th>max</th>\n",
       "      <td>500.000000</td>\n",
       "      <td>340.000000</td>\n",
       "      <td>120.000000</td>\n",
       "      <td>5.000000</td>\n",
       "      <td>5.000000</td>\n",
       "      <td>5.00000</td>\n",
       "      <td>9.920000</td>\n",
       "      <td>1.000000</td>\n",
       "      <td>0.97000</td>\n",
       "    </tr>\n",
       "  </tbody>\n",
       "</table>\n",
       "</div>"
      ],
      "text/plain": [
       "       Serial No.   GRE Score  TOEFL Score  University Rating         SOP  \\\n",
       "count  500.000000  500.000000   500.000000         500.000000  500.000000   \n",
       "mean   250.500000  316.472000   107.192000           3.114000    3.374000   \n",
       "std    144.481833   11.295148     6.081868           1.143512    0.991004   \n",
       "min      1.000000  290.000000    92.000000           1.000000    1.000000   \n",
       "25%    125.750000  308.000000   103.000000           2.000000    2.500000   \n",
       "50%    250.500000  317.000000   107.000000           3.000000    3.500000   \n",
       "75%    375.250000  325.000000   112.000000           4.000000    4.000000   \n",
       "max    500.000000  340.000000   120.000000           5.000000    5.000000   \n",
       "\n",
       "            LOR         CGPA    Research  Chance of Admit   \n",
       "count  500.00000  500.000000  500.000000         500.00000  \n",
       "mean     3.48400    8.576440    0.560000           0.72174  \n",
       "std      0.92545    0.604813    0.496884           0.14114  \n",
       "min      1.00000    6.800000    0.000000           0.34000  \n",
       "25%      3.00000    8.127500    0.000000           0.63000  \n",
       "50%      3.50000    8.560000    1.000000           0.72000  \n",
       "75%      4.00000    9.040000    1.000000           0.82000  \n",
       "max      5.00000    9.920000    1.000000           0.97000  "
      ]
     },
     "execution_count": 24,
     "metadata": {},
     "output_type": "execute_result"
    }
   ],
   "source": [
    "data.describecribe()"
   ]
  },
  {
   "cell_type": "code",
   "execution_count": 25,
   "metadata": {},
   "outputs": [
    {
     "data": {
      "text/plain": [
       "(500, 9)"
      ]
     },
     "execution_count": 25,
     "metadata": {},
     "output_type": "execute_result"
    }
   ],
   "source": [
    "data.shape"
   ]
  },
  {
   "cell_type": "code",
   "execution_count": 32,
   "metadata": {},
   "outputs": [],
   "source": [
    "data.drop(['Serial No.'], axis=1, inplace=True)"
   ]
  },
  {
   "cell_type": "code",
   "execution_count": 33,
   "metadata": {},
   "outputs": [
    {
     "data": {
      "image/png": "[encoded data removed]",
      "text/plain": [
       "<Figure size 720x720 with 2 Axes>"
      ]
     },
     "metadata": {
      "needs_background": "light"
     },
     "output_type": "display_data"
    }
   ],
   "source": [
    "fig,ax = plt.subplots(figsize=(10, 10))\n",
    "sns.heatmap(data.corr(), ax=ax, annot=True, linewidths=0.05, fmt= '.2f',cmap=\"magma\")\n",
    "plt.show()"
   ]
  },
  {
   "cell_type": "code",
   "execution_count": 34,
   "metadata": {},
   "outputs": [
    {
     "data": {
      "text/html": [
       "<div>\n",
       "<style scoped>\n",
       "    .dataframe tbody tr th:only-of-type {\n",
       "        vertical-align: middle;\n",
       "    }\n",
       "\n",
       "    .dataframe tbody tr th {\n",
       "        vertical-align: top;\n",
       "    }\n",
       "\n",
       "    .dataframe thead th {\n",
       "        text-align: right;\n",
       "    }\n",
       "</style>\n",
       "<table border=\"1\" class=\"dataframe\">\n",
       "  <thead>\n",
       "    <tr style=\"text-align: right;\">\n",
       "      <th></th>\n",
       "      <th>GRE Score</th>\n",
       "      <th>TOEFL Score</th>\n",
       "      <th>University Rating</th>\n",
       "      <th>SOP</th>\n",
       "      <th>LOR</th>\n",
       "      <th>CGPA</th>\n",
       "      <th>Research</th>\n",
       "      <th>Chance of Admit</th>\n",
       "    </tr>\n",
       "  </thead>\n",
       "  <tbody>\n",
       "    <tr>\n",
       "      <th>GRE Score</th>\n",
       "      <td>1.000000</td>\n",
       "      <td>0.827200</td>\n",
       "      <td>0.635376</td>\n",
       "      <td>0.613498</td>\n",
       "      <td>0.524679</td>\n",
       "      <td>0.825878</td>\n",
       "      <td>0.563398</td>\n",
       "      <td>0.810351</td>\n",
       "    </tr>\n",
       "    <tr>\n",
       "      <th>TOEFL Score</th>\n",
       "      <td>0.827200</td>\n",
       "      <td>1.000000</td>\n",
       "      <td>0.649799</td>\n",
       "      <td>0.644410</td>\n",
       "      <td>0.541563</td>\n",
       "      <td>0.810574</td>\n",
       "      <td>0.467012</td>\n",
       "      <td>0.792228</td>\n",
       "    </tr>\n",
       "    <tr>\n",
       "      <th>University Rating</th>\n",
       "      <td>0.635376</td>\n",
       "      <td>0.649799</td>\n",
       "      <td>1.000000</td>\n",
       "      <td>0.728024</td>\n",
       "      <td>0.608651</td>\n",
       "      <td>0.705254</td>\n",
       "      <td>0.427047</td>\n",
       "      <td>0.690132</td>\n",
       "    </tr>\n",
       "    <tr>\n",
       "      <th>SOP</th>\n",
       "      <td>0.613498</td>\n",
       "      <td>0.644410</td>\n",
       "      <td>0.728024</td>\n",
       "      <td>1.000000</td>\n",
       "      <td>0.663707</td>\n",
       "      <td>0.712154</td>\n",
       "      <td>0.408116</td>\n",
       "      <td>0.684137</td>\n",
       "    </tr>\n",
       "    <tr>\n",
       "      <th>LOR</th>\n",
       "      <td>0.524679</td>\n",
       "      <td>0.541563</td>\n",
       "      <td>0.608651</td>\n",
       "      <td>0.663707</td>\n",
       "      <td>1.000000</td>\n",
       "      <td>0.637469</td>\n",
       "      <td>0.372526</td>\n",
       "      <td>0.645365</td>\n",
       "    </tr>\n",
       "    <tr>\n",
       "      <th>CGPA</th>\n",
       "      <td>0.825878</td>\n",
       "      <td>0.810574</td>\n",
       "      <td>0.705254</td>\n",
       "      <td>0.712154</td>\n",
       "      <td>0.637469</td>\n",
       "      <td>1.000000</td>\n",
       "      <td>0.501311</td>\n",
       "      <td>0.882413</td>\n",
       "    </tr>\n",
       "    <tr>\n",
       "      <th>Research</th>\n",
       "      <td>0.563398</td>\n",
       "      <td>0.467012</td>\n",
       "      <td>0.427047</td>\n",
       "      <td>0.408116</td>\n",
       "      <td>0.372526</td>\n",
       "      <td>0.501311</td>\n",
       "      <td>1.000000</td>\n",
       "      <td>0.545871</td>\n",
       "    </tr>\n",
       "    <tr>\n",
       "      <th>Chance of Admit</th>\n",
       "      <td>0.810351</td>\n",
       "      <td>0.792228</td>\n",
       "      <td>0.690132</td>\n",
       "      <td>0.684137</td>\n",
       "      <td>0.645365</td>\n",
       "      <td>0.882413</td>\n",
       "      <td>0.545871</td>\n",
       "      <td>1.000000</td>\n",
       "    </tr>\n",
       "  </tbody>\n",
       "</table>\n",
       "</div>"
      ],
      "text/plain": [
       "                   GRE Score  TOEFL Score  University Rating       SOP  \\\n",
       "GRE Score           1.000000     0.827200           0.635376  0.613498   \n",
       "TOEFL Score         0.827200     1.000000           0.649799  0.644410   \n",
       "University Rating   0.635376     0.649799           1.000000  0.728024   \n",
       "SOP                 0.613498     0.644410           0.728024  1.000000   \n",
       "LOR                 0.524679     0.541563           0.608651  0.663707   \n",
       "CGPA                0.825878     0.810574           0.705254  0.712154   \n",
       "Research            0.563398     0.467012           0.427047  0.408116   \n",
       "Chance of Admit     0.810351     0.792228           0.690132  0.684137   \n",
       "\n",
       "                       LOR       CGPA  Research  Chance of Admit   \n",
       "GRE Score          0.524679  0.825878  0.563398          0.810351  \n",
       "TOEFL Score        0.541563  0.810574  0.467012          0.792228  \n",
       "University Rating  0.608651  0.705254  0.427047          0.690132  \n",
       "SOP                0.663707  0.712154  0.408116          0.684137  \n",
       "LOR                1.000000  0.637469  0.372526          0.645365  \n",
       "CGPA               0.637469  1.000000  0.501311          0.882413  \n",
       "Research           0.372526  0.501311  1.000000          0.545871  \n",
       "Chance of Admit    0.645365  0.882413  0.545871          1.000000  "
      ]
     },
     "execution_count": 34,
     "metadata": {},
     "output_type": "execute_result"
    }
   ],
   "source": [
    "data.corr()"
   ]
  },
  {
   "cell_type": "code",
   "execution_count": 36,
   "metadata": {},
   "outputs": [],
   "source": [
    "standard_scaler = StandardScaler()"
   ]
  },
  {
   "cell_type": "code",
   "execution_count": 39,
   "metadata": {},
   "outputs": [
    {
     "data": {
      "text/plain": [
       "Index(['GRE Score', 'TOEFL Score', 'University Rating', 'SOP', 'LOR ', 'CGPA',\n",
       "       'Research', 'Chance of Admit '],\n",
       "      dtype='object')"
      ]
     },
     "execution_count": 39,
     "metadata": {},
     "output_type": "execute_result"
    }
   ],
   "source": [
    "data.columns"
   ]
  },
  {
   "cell_type": "code",
   "execution_count": 40,
   "metadata": {},
   "outputs": [],
   "source": [
    "y = data[\"Chance of Admit \"]"
   ]
  },
  {
   "cell_type": "code",
   "execution_count": 41,
   "metadata": {},
   "outputs": [],
   "source": [
    "X = data.drop(columns=['Chance of Admit '])"
   ]
  },
  {
   "cell_type": "code",
   "execution_count": 42,
   "metadata": {},
   "outputs": [
    {
     "data": {
      "text/plain": [
       "(500, 7)"
      ]
     },
     "execution_count": 42,
     "metadata": {},
     "output_type": "execute_result"
    }
   ],
   "source": [
    "X.shape"
   ]
  },
  {
   "cell_type": "code",
   "execution_count": 43,
   "metadata": {},
   "outputs": [
    {
     "data": {
      "text/plain": [
       "(500,)"
      ]
     },
     "execution_count": 43,
     "metadata": {},
     "output_type": "execute_result"
    }
   ],
   "source": [
    "y.shape"
   ]
  },
  {
   "cell_type": "code",
   "execution_count": 44,
   "metadata": {},
   "outputs": [
    {
     "name": "stderr",
     "output_type": "stream",
     "text": [
      "/opt/conda/lib/python3.7/site-packages/sklearn/preprocessing/data.py:645: DataConversionWarning: Data with input dtype int64, float64 were all converted to float64 by StandardScaler.\n",
      "  return self.partial_fit(X, y)\n",
      "/opt/conda/lib/python3.7/site-packages/sklearn/base.py:464: DataConversionWarning: Data with input dtype int64, float64 were all converted to float64 by StandardScaler.\n",
      "  return self.fit(X, **fit_params).transform(X)\n"
     ]
    }
   ],
   "source": [
    "X = standard_scaler.fit_transform(X)"
   ]
  },
  {
   "cell_type": "code",
   "execution_count": 49,
   "metadata": {},
   "outputs": [],
   "source": [
    "X_train, X_test, y_train, y_test = train_test_split(X, y, test_size = 0.3)"
   ]
  },
  {
   "cell_type": "code",
   "execution_count": 50,
   "metadata": {},
   "outputs": [
    {
     "data": {
      "text/plain": [
       "((350, 7), (150, 7), (350,), (150,))"
      ]
     },
     "execution_count": 50,
     "metadata": {},
     "output_type": "execute_result"
    }
   ],
   "source": [
    "X_train.shape, X_test.shape, y_train.shape, y_test.shape"
   ]
  },
  {
   "cell_type": "code",
   "execution_count": 55,
   "metadata": {},
   "outputs": [],
   "source": [
    "rfr_rs = RandomizedSearchCV(\n",
    "    RandomForestRegressor(n_estimators = 200),\n",
    "    param_distributions={\n",
    "        \"max_depth\" : np.arange(10, 1000, 10),\n",
    "        \"max_features\": ['sqrt', 'log2', 0.2, None],\n",
    "        \"min_samples_leaf\": np.arange(5, 100)\n",
    "    },\n",
    "    n_iter=100,\n",
    "    cv = 5, \n",
    "    verbose = 1,\n",
    "    n_jobs=-1\n",
    ")"
   ]
  },
  {
   "cell_type": "code",
   "execution_count": 56,
   "metadata": {},
   "outputs": [
    {
     "name": "stdout",
     "output_type": "stream",
     "text": [
      "Fitting 5 folds for each of 100 candidates, totalling 500 fits\n"
     ]
    },
    {
     "name": "stderr",
     "output_type": "stream",
     "text": [
      "[Parallel(n_jobs=-1)]: Using backend LokyBackend with 2 concurrent workers.\n",
      "[Parallel(n_jobs=-1)]: Done  46 tasks      | elapsed:    5.6s\n",
      "[Parallel(n_jobs=-1)]: Done 196 tasks      | elapsed:   27.5s\n",
      "[Parallel(n_jobs=-1)]: Done 446 tasks      | elapsed:   59.6s\n",
      "[Parallel(n_jobs=-1)]: Done 500 out of 500 | elapsed:  1.1min finished\n"
     ]
    },
    {
     "data": {
      "text/plain": [
       "RandomizedSearchCV(cv=5, error_score='raise-deprecating',\n",
       "          estimator=RandomForestRegressor(bootstrap=True, criterion='mse', max_depth=None,\n",
       "           max_features='auto', max_leaf_nodes=None,\n",
       "           min_impurity_decrease=0.0, min_impurity_split=None,\n",
       "           min_samples_leaf=1, min_samples_split=2,\n",
       "           min_weight_fraction_leaf=0.0, n_estimators=200, n_jobs=None,\n",
       "           oob_score=False, random_state=None, verbose=0, warm_start=False),\n",
       "          fit_params=None, iid='warn', n_iter=100, n_jobs=-1,\n",
       "          param_distributions={'max_depth': array([ 10,  20, ..., 980, 990]), 'max_features': ['sqrt', 'log2', 0.2, None], 'min_samples_leaf': array([ 5,  6, ..., 98, 99])},\n",
       "          pre_dispatch='2*n_jobs', random_state=None, refit=True,\n",
       "          return_train_score='warn', scoring=None, verbose=1)"
      ]
     },
     "execution_count": 56,
     "metadata": {},
     "output_type": "execute_result"
    }
   ],
   "source": [
    "rfr_rs.fit(X_train, y_train)"
   ]
  },
  {
   "cell_type": "code",
   "execution_count": 57,
   "metadata": {},
   "outputs": [
    {
     "data": {
      "text/plain": [
       "0.8163501117950939"
      ]
     },
     "execution_count": 57,
     "metadata": {},
     "output_type": "execute_result"
    }
   ],
   "source": [
    "rfr_rs.best_score_"
   ]
  },
  {
   "cell_type": "code",
   "execution_count": 58,
   "metadata": {},
   "outputs": [
    {
     "data": {
      "text/plain": [
       "{'min_samples_leaf': 9, 'max_features': 'sqrt', 'max_depth': 680}"
      ]
     },
     "execution_count": 58,
     "metadata": {},
     "output_type": "execute_result"
    }
   ],
   "source": [
    "rfr_rs.best_params_"
   ]
  },
  {
   "cell_type": "code",
   "execution_count": 59,
   "metadata": {},
   "outputs": [
    {
     "data": {
      "text/plain": [
       "0.7333571468309754"
      ]
     },
     "execution_count": 59,
     "metadata": {},
     "output_type": "execute_result"
    }
   ],
   "source": [
    "rfr_rs.score(X_test, y_test)"
   ]
  },
  {
   "cell_type": "code",
   "execution_count": 60,
   "metadata": {},
   "outputs": [],
   "source": [
    "preds = rfr_rs.predict(X_test)"
   ]
  },
  {
   "cell_type": "code",
   "execution_count": 69,
   "metadata": {},
   "outputs": [
    {
     "name": "stdout",
     "output_type": "stream",
     "text": [
      "[0.66542278 0.65455376 0.8711981  0.66636375 0.81869835 0.61587819\n",
      " 0.82870504 0.63676916 0.72442812 0.86819033 0.83903421 0.77377897\n",
      " 0.64983202 0.71369826 0.81553852 0.69480574 0.65392304 0.62951119\n",
      " 0.93534501 0.69388824 0.83386732 0.72924193 0.8032224  0.56922601\n",
      " 0.80745458 0.7212088  0.61079542 0.72828949 0.70990815 0.85331946\n",
      " 0.69112611 0.58666944 0.57435412 0.68908909 0.79956267 0.91150164\n",
      " 0.74567071 0.67743144 0.81463691 0.90760528 0.55561126 0.49365184\n",
      " 0.64163932 0.6243358  0.67162137 0.76434426 0.78609699 0.7366751\n",
      " 0.90142697 0.61462581 0.70003183 0.73968694 0.52582373 0.87370884\n",
      " 0.65502394 0.88060731 0.66477203 0.72101545 0.65746263 0.63490308\n",
      " 0.74238667 0.82982521 0.65452743 0.70262438 0.66685049 0.52448718\n",
      " 0.62574524 0.55512963 0.63927852 0.89058043 0.67595863 0.90421326\n",
      " 0.78528864 0.89767499 0.74999106 0.84602869 0.63933916 0.62102792\n",
      " 0.51890226 0.75256976 0.84033639 0.70635188 0.54931627 0.89267205\n",
      " 0.68702349 0.55384719 0.74509927 0.6386503  0.92874535 0.904219\n",
      " 0.87375527 0.66313332 0.75515807 0.75536736 0.7993358  0.72032939\n",
      " 0.75948039 0.7187349  0.69761288 0.90814622 0.71858254 0.80747589\n",
      " 0.91363258 0.79284118 0.61221625 0.67086592 0.59123102 0.85793741\n",
      " 0.79234778 0.74137729 0.71541648 0.77768922 0.70875409 0.69451824\n",
      " 0.93449069 0.85153439 0.73769368 0.72586992 0.7771346  0.74188477\n",
      " 0.75648012 0.60883428 0.91179873 0.66281613 0.68369163 0.87257303\n",
      " 0.9324404  0.71021177 0.62169608 0.48871753 0.80391337 0.78720189\n",
      " 0.64032606 0.59676063 0.64262829 0.90893093 0.63557553 0.62243639\n",
      " 0.63089221 0.63998809 0.61703016 0.53622358 0.75840666 0.70280588\n",
      " 0.67861545 0.86977027 0.5873343  0.59846902 0.7488771  0.61096874]\n"
     ]
    }
   ],
   "source": [
    "print(preds)"
   ]
  },
  {
   "cell_type": "code",
   "execution_count": 68,
   "metadata": {},
   "outputs": [
    {
     "name": "stdout",
     "output_type": "stream",
     "text": [
      "[0.62, 0.75, 0.91, 0.71, 0.78, 0.62, 0.79, 0.65, 0.74, 0.86, 0.85, 0.79, 0.68, 0.71, 0.81, 0.74, 0.57, 0.65, 0.96, 0.77, 0.86, 0.71, 0.89, 0.57, 0.81, 0.78, 0.57, 0.73, 0.71, 0.86, 0.72, 0.62, 0.53, 0.59, 0.83, 0.94, 0.73, 0.61, 0.81, 0.93, 0.45, 0.42, 0.64, 0.73, 0.72, 0.8, 0.55, 0.45, 0.94, 0.58, 0.72, 0.77, 0.47, 0.88, 0.68, 0.89, 0.53, 0.77, 0.64, 0.72, 0.78, 0.85, 0.79, 0.7, 0.64, 0.57, 0.73, 0.68, 0.66, 0.89, 0.56, 0.94, 0.69, 0.91, 0.72, 0.82, 0.72, 0.73, 0.53, 0.76, 0.86, 0.71, 0.56, 0.9, 0.56, 0.58, 0.72, 0.59, 0.96, 0.89, 0.9, 0.57, 0.78, 0.82, 0.73, 0.72, 0.8, 0.84, 0.61, 0.93, 0.71, 0.83, 0.96, 0.82, 0.55, 0.69, 0.58, 0.88, 0.76, 0.71, 0.72, 0.78, 0.73, 0.71, 0.97, 0.85, 0.79, 0.78, 0.8, 0.7, 0.52, 0.59, 0.93, 0.46, 0.63, 0.87, 0.97, 0.66, 0.58, 0.46, 0.85, 0.74, 0.64, 0.68, 0.47, 0.96, 0.61, 0.68, 0.72, 0.75, 0.68, 0.42, 0.72, 0.69, 0.71, 0.92, 0.63, 0.34, 0.72, 0.65]\n"
     ]
    }
   ],
   "source": [
    "print(y_test.tolist())"
   ]
  },
  {
   "cell_type": "code",
   "execution_count": 95,
   "metadata": {},
   "outputs": [
    {
     "data": {
      "text/plain": [
       "0.04781278242694524"
      ]
     },
     "execution_count": 95,
     "metadata": {},
     "output_type": "execute_result"
    }
   ],
   "source": [
    "mean_absolute_error(preds, y_test)"
   ]
  },
  {
   "cell_type": "code",
   "execution_count": 94,
   "metadata": {},
   "outputs": [
    {
     "data": {
      "text/plain": [
       "0.00481883600691407"
      ]
     },
     "execution_count": 94,
     "metadata": {},
     "output_type": "execute_result"
    }
   ],
   "source": [
    "mean_squared_error(preds, y_test)"
   ]
  },
  {
   "cell_type": "code",
   "execution_count": 73,
   "metadata": {},
   "outputs": [
    {
     "name": "stderr",
     "output_type": "stream",
     "text": [
      "Using TensorFlow backend.\n"
     ]
    }
   ],
   "source": [
    "from keras import models, layers"
   ]
  },
  {
   "cell_type": "code",
   "execution_count": 100,
   "metadata": {},
   "outputs": [],
   "source": [
    "def build_model():\n",
    "    model = models.Sequential()\n",
    "    model.add(layers.Dense(64, activation='relu', input_shape=(X_train.shape[1], )))\n",
    "    model.add(layers.Dense(64, activation='relu'))\n",
    "    model.add(layers.Dense(1))\n",
    "    \n",
    "    model.compile(optimizer = 'rmsprop', loss = 'mse', metrics = ['mae'])\n",
    "    \n",
    "    return model"
   ]
  },
  {
   "cell_type": "code",
   "execution_count": 75,
   "metadata": {},
   "outputs": [
    {
     "name": "stdout",
     "output_type": "stream",
     "text": [
      "WARNING:tensorflow:From /opt/conda/lib/python3.7/site-packages/tensorflow/python/framework/op_def_library.py:263: colocate_with (from tensorflow.python.framework.ops) is deprecated and will be removed in a future version.\n",
      "Instructions for updating:\n",
      "Colocations handled automatically by placer.\n"
     ]
    }
   ],
   "source": [
    "nn_model = build_model()"
   ]
  },
  {
   "cell_type": "code",
   "execution_count": 78,
   "metadata": {},
   "outputs": [
    {
     "name": "stdout",
     "output_type": "stream",
     "text": [
      "Epoch 1/100\n",
      "350/350 [==============================] - 0s 126us/step - loss: 0.0027 - mean_squared_error: 0.0027\n",
      "Epoch 2/100\n",
      "350/350 [==============================] - 0s 56us/step - loss: 0.0030 - mean_squared_error: 0.0030\n",
      "Epoch 3/100\n",
      "350/350 [==============================] - 0s 98us/step - loss: 0.0032 - mean_squared_error: 0.0032\n",
      "Epoch 4/100\n",
      "350/350 [==============================] - 0s 88us/step - loss: 0.0028 - mean_squared_error: 0.0028\n",
      "Epoch 5/100\n",
      "350/350 [==============================] - 0s 84us/step - loss: 0.0026 - mean_squared_error: 0.0026\n",
      "Epoch 6/100\n",
      "350/350 [==============================] - 0s 98us/step - loss: 0.0022 - mean_squared_error: 0.0022\n",
      "Epoch 7/100\n",
      "350/350 [==============================] - 0s 93us/step - loss: 0.0027 - mean_squared_error: 0.0027\n",
      "Epoch 8/100\n",
      "350/350 [==============================] - 0s 93us/step - loss: 0.0033 - mean_squared_error: 0.0033\n",
      "Epoch 9/100\n",
      "350/350 [==============================] - 0s 82us/step - loss: 0.0022 - mean_squared_error: 0.0022\n",
      "Epoch 10/100\n",
      "350/350 [==============================] - 0s 74us/step - loss: 0.0023 - mean_squared_error: 0.0023\n",
      "Epoch 11/100\n",
      "350/350 [==============================] - 0s 105us/step - loss: 0.0028 - mean_squared_error: 0.0028\n",
      "Epoch 12/100\n",
      "350/350 [==============================] - 0s 107us/step - loss: 0.0019 - mean_squared_error: 0.0019\n",
      "Epoch 13/100\n",
      "350/350 [==============================] - ETA: 0s - loss: 0.0014 - mean_squared_error: 0.00 - 0s 87us/step - loss: 0.0032 - mean_squared_error: 0.0032\n",
      "Epoch 14/100\n",
      "350/350 [==============================] - 0s 91us/step - loss: 0.0029 - mean_squared_error: 0.0029\n",
      "Epoch 15/100\n",
      "350/350 [==============================] - 0s 108us/step - loss: 0.0022 - mean_squared_error: 0.0022\n",
      "Epoch 16/100\n",
      "350/350 [==============================] - 0s 96us/step - loss: 0.0018 - mean_squared_error: 0.0018\n",
      "Epoch 17/100\n",
      "350/350 [==============================] - 0s 95us/step - loss: 0.0029 - mean_squared_error: 0.0029\n",
      "Epoch 18/100\n",
      "350/350 [==============================] - 0s 115us/step - loss: 0.0026 - mean_squared_error: 0.0026  \n",
      "Epoch 19/100\n",
      "350/350 [==============================] - 0s 135us/step - loss: 0.0018 - mean_squared_error: 0.0018\n",
      "Epoch 20/100\n",
      "350/350 [==============================] - 0s 124us/step - loss: 0.0033 - mean_squared_error: 0.0033\n",
      "Epoch 21/100\n",
      "350/350 [==============================] - 0s 108us/step - loss: 0.0021 - mean_squared_error: 0.0021  \n",
      "Epoch 22/100\n",
      "350/350 [==============================] - 0s 98us/step - loss: 0.0027 - mean_squared_error: 0.0027\n",
      "Epoch 23/100\n",
      "350/350 [==============================] - 0s 103us/step - loss: 0.0021 - mean_squared_error: 0.0021  \n",
      "Epoch 24/100\n",
      "350/350 [==============================] - 0s 108us/step - loss: 0.0024 - mean_squared_error: 0.0024\n",
      "Epoch 25/100\n",
      "350/350 [==============================] - 0s 101us/step - loss: 0.0024 - mean_squared_error: 0.0024\n",
      "Epoch 26/100\n",
      "350/350 [==============================] - 0s 90us/step - loss: 0.0016 - mean_squared_error: 0.0016\n",
      "Epoch 27/100\n",
      "350/350 [==============================] - 0s 97us/step - loss: 0.0022 - mean_squared_error: 0.0022\n",
      "Epoch 28/100\n",
      "350/350 [==============================] - 0s 114us/step - loss: 0.0027 - mean_squared_error: 0.0027\n",
      "Epoch 29/100\n",
      "350/350 [==============================] - 0s 134us/step - loss: 0.0026 - mean_squared_error: 0.0026\n",
      "Epoch 30/100\n",
      "350/350 [==============================] - 0s 132us/step - loss: 0.0018 - mean_squared_error: 0.0018  \n",
      "Epoch 31/100\n",
      "350/350 [==============================] - 0s 278us/step - loss: 0.0024 - mean_squared_error: 0.0024\n",
      "Epoch 32/100\n",
      "350/350 [==============================] - 0s 155us/step - loss: 0.0018 - mean_squared_error: 0.0018\n",
      "Epoch 33/100\n",
      "350/350 [==============================] - 0s 138us/step - loss: 0.0031 - mean_squared_error: 0.0031\n",
      "Epoch 34/100\n",
      "350/350 [==============================] - 0s 297us/step - loss: 0.0017 - mean_squared_error: 0.0017\n",
      "Epoch 35/100\n",
      "350/350 [==============================] - 0s 128us/step - loss: 0.0024 - mean_squared_error: 0.0024\n",
      "Epoch 36/100\n",
      "350/350 [==============================] - 0s 94us/step - loss: 0.0020 - mean_squared_error: 0.0020\n",
      "Epoch 37/100\n",
      "350/350 [==============================] - 0s 104us/step - loss: 0.0024 - mean_squared_error: 0.0024\n",
      "Epoch 38/100\n",
      "350/350 [==============================] - 0s 94us/step - loss: 0.0025 - mean_squared_error: 0.0025\n",
      "Epoch 39/100\n",
      "350/350 [==============================] - 0s 80us/step - loss: 0.0016 - mean_squared_error: 0.0016\n",
      "Epoch 40/100\n",
      "350/350 [==============================] - 0s 119us/step - loss: 0.0029 - mean_squared_error: 0.0029\n",
      "Epoch 41/100\n",
      "350/350 [==============================] - 0s 110us/step - loss: 0.0013 - mean_squared_error: 0.0013\n",
      "Epoch 42/100\n",
      "350/350 [==============================] - 0s 110us/step - loss: 0.0023 - mean_squared_error: 0.0023  \n",
      "Epoch 43/100\n",
      "350/350 [==============================] - 0s 97us/step - loss: 0.0022 - mean_squared_error: 0.0022\n",
      "Epoch 44/100\n",
      "350/350 [==============================] - 0s 89us/step - loss: 0.0025 - mean_squared_error: 0.0025\n",
      "Epoch 45/100\n",
      "350/350 [==============================] - 0s 82us/step - loss: 0.0018 - mean_squared_error: 0.0018   \n",
      "Epoch 46/100\n",
      "350/350 [==============================] - 0s 75us/step - loss: 0.0014 - mean_squared_error: 0.0014\n",
      "Epoch 47/100\n",
      "350/350 [==============================] - 0s 121us/step - loss: 0.0026 - mean_squared_error: 0.0026\n",
      "Epoch 48/100\n",
      "350/350 [==============================] - 0s 90us/step - loss: 0.0021 - mean_squared_error: 0.0021\n",
      "Epoch 49/100\n",
      "350/350 [==============================] - 0s 109us/step - loss: 0.0014 - mean_squared_error: 0.0014  \n",
      "Epoch 50/100\n",
      "350/350 [==============================] - 0s 104us/step - loss: 0.0025 - mean_squared_error: 0.0025\n",
      "Epoch 51/100\n",
      "350/350 [==============================] - 0s 111us/step - loss: 0.0018 - mean_squared_error: 0.0018\n",
      "Epoch 52/100\n",
      "350/350 [==============================] - 0s 92us/step - loss: 0.0023 - mean_squared_error: 0.0023\n",
      "Epoch 53/100\n",
      "350/350 [==============================] - 0s 94us/step - loss: 0.0023 - mean_squared_error: 0.0023\n",
      "Epoch 54/100\n",
      "350/350 [==============================] - 0s 76us/step - loss: 0.0018 - mean_squared_error: 0.0018   \n",
      "Epoch 55/100\n",
      "350/350 [==============================] - 0s 70us/step - loss: 0.0022 - mean_squared_error: 0.0022\n",
      "Epoch 56/100\n",
      "350/350 [==============================] - 0s 76us/step - loss: 0.0014 - mean_squared_error: 0.0014\n",
      "Epoch 57/100\n",
      "350/350 [==============================] - 0s 104us/step - loss: 0.0015 - mean_squared_error: 0.0015\n",
      "Epoch 58/100\n",
      "350/350 [==============================] - 0s 85us/step - loss: 0.0022 - mean_squared_error: 0.0022\n",
      "Epoch 59/100\n",
      "350/350 [==============================] - 0s 81us/step - loss: 0.0025 - mean_squared_error: 0.0025\n",
      "Epoch 60/100\n",
      "350/350 [==============================] - 0s 82us/step - loss: 0.0014 - mean_squared_error: 0.0014   \n",
      "Epoch 61/100\n",
      "350/350 [==============================] - 0s 71us/step - loss: 0.0018 - mean_squared_error: 0.0018\n",
      "Epoch 62/100\n",
      "350/350 [==============================] - 0s 80us/step - loss: 0.0015 - mean_squared_error: 0.0015\n",
      "Epoch 63/100\n",
      "350/350 [==============================] - 0s 81us/step - loss: 0.0023 - mean_squared_error: 0.0023\n",
      "Epoch 64/100\n",
      "350/350 [==============================] - 0s 105us/step - loss: 9.8111e-04 - mean_squared_error: 9.8111e-04\n",
      "Epoch 65/100\n",
      "350/350 [==============================] - 0s 74us/step - loss: 0.0028 - mean_squared_error: 0.0028   \n",
      "Epoch 66/100\n",
      "350/350 [==============================] - 0s 109us/step - loss: 0.0013 - mean_squared_error: 0.0013\n",
      "Epoch 67/100\n",
      "350/350 [==============================] - 0s 79us/step - loss: 0.0020 - mean_squared_error: 0.0020\n",
      "Epoch 68/100\n",
      "350/350 [==============================] - 0s 118us/step - loss: 0.0015 - mean_squared_error: 0.0015  \n",
      "Epoch 69/100\n",
      "350/350 [==============================] - 0s 106us/step - loss: 0.0021 - mean_squared_error: 0.0021\n",
      "Epoch 70/100\n",
      "350/350 [==============================] - 0s 93us/step - loss: 0.0018 - mean_squared_error: 0.0018   \n",
      "Epoch 71/100\n",
      "350/350 [==============================] - 0s 82us/step - loss: 0.0023 - mean_squared_error: 0.0023   \n",
      "Epoch 72/100\n"
     ]
    },
    {
     "name": "stdout",
     "output_type": "stream",
     "text": [
      "350/350 [==============================] - 0s 78us/step - loss: 0.0011 - mean_squared_error: 0.0011\n",
      "Epoch 73/100\n",
      "350/350 [==============================] - 0s 88us/step - loss: 0.0024 - mean_squared_error: 0.0024\n",
      "Epoch 74/100\n",
      "350/350 [==============================] - 0s 123us/step - loss: 0.0020 - mean_squared_error: 0.0020  \n",
      "Epoch 75/100\n",
      "350/350 [==============================] - 0s 88us/step - loss: 0.0012 - mean_squared_error: 0.0012\n",
      "Epoch 76/100\n",
      "350/350 [==============================] - 0s 94us/step - loss: 0.0023 - mean_squared_error: 0.0023   \n",
      "Epoch 77/100\n",
      "350/350 [==============================] - 0s 92us/step - loss: 0.0015 - mean_squared_error: 0.0015   \n",
      "Epoch 78/100\n",
      "350/350 [==============================] - 0s 94us/step - loss: 0.0018 - mean_squared_error: 0.0018\n",
      "Epoch 79/100\n",
      "350/350 [==============================] - 0s 105us/step - loss: 0.0017 - mean_squared_error: 0.0017\n",
      "Epoch 80/100\n",
      "350/350 [==============================] - 0s 102us/step - loss: 0.0018 - mean_squared_error: 0.0018\n",
      "Epoch 81/100\n",
      "350/350 [==============================] - 0s 90us/step - loss: 0.0014 - mean_squared_error: 0.0014   \n",
      "Epoch 82/100\n",
      "350/350 [==============================] - 0s 93us/step - loss: 0.0022 - mean_squared_error: 0.0022\n",
      "Epoch 83/100\n",
      "350/350 [==============================] - 0s 92us/step - loss: 0.0017 - mean_squared_error: 0.0017\n",
      "Epoch 84/100\n",
      "350/350 [==============================] - 0s 122us/step - loss: 0.0020 - mean_squared_error: 0.0020\n",
      "Epoch 85/100\n",
      "350/350 [==============================] - 0s 83us/step - loss: 0.0012 - mean_squared_error: 0.0012\n",
      "Epoch 86/100\n",
      "350/350 [==============================] - 0s 96us/step - loss: 0.0021 - mean_squared_error: 0.0021\n",
      "Epoch 87/100\n",
      "350/350 [==============================] - 0s 91us/step - loss: 0.0015 - mean_squared_error: 0.0015   \n",
      "Epoch 88/100\n",
      "350/350 [==============================] - 0s 113us/step - loss: 0.0015 - mean_squared_error: 0.0015  \n",
      "Epoch 89/100\n",
      "350/350 [==============================] - 0s 106us/step - loss: 0.0015 - mean_squared_error: 0.0015\n",
      "Epoch 90/100\n",
      "350/350 [==============================] - 0s 134us/step - loss: 0.0018 - mean_squared_error: 0.0018\n",
      "Epoch 91/100\n",
      "350/350 [==============================] - 0s 140us/step - loss: 0.0020 - mean_squared_error: 0.0020\n",
      "Epoch 92/100\n",
      "350/350 [==============================] - 0s 103us/step - loss: 0.0012 - mean_squared_error: 0.0012  \n",
      "Epoch 93/100\n",
      "350/350 [==============================] - 0s 114us/step - loss: 0.0020 - mean_squared_error: 0.0020\n",
      "Epoch 94/100\n",
      "350/350 [==============================] - 0s 148us/step - loss: 0.0016 - mean_squared_error: 0.0016\n",
      "Epoch 95/100\n",
      "350/350 [==============================] - 0s 79us/step - loss: 0.0021 - mean_squared_error: 0.0021\n",
      "Epoch 96/100\n",
      "350/350 [==============================] - 0s 100us/step - loss: 0.0016 - mean_squared_error: 0.0016  \n",
      "Epoch 97/100\n",
      "350/350 [==============================] - 0s 122us/step - loss: 0.0015 - mean_squared_error: 0.0015\n",
      "Epoch 98/100\n",
      "350/350 [==============================] - 0s 115us/step - loss: 0.0018 - mean_squared_error: 0.0018\n",
      "Epoch 99/100\n",
      "350/350 [==============================] - 0s 88us/step - loss: 0.0019 - mean_squared_error: 0.0019\n",
      "Epoch 100/100\n",
      "350/350 [==============================] - 0s 92us/step - loss: 0.0010 - mean_squared_error: 0.0010   \n"
     ]
    },
    {
     "data": {
      "text/plain": [
       "<keras.callbacks.History at 0x7fb77ef2e630>"
      ]
     },
     "execution_count": 78,
     "metadata": {},
     "output_type": "execute_result"
    }
   ],
   "source": [
    "nn_model.fit(X_train, y_train, epochs=100, verbose=1)"
   ]
  },
  {
   "cell_type": "code",
   "execution_count": 81,
   "metadata": {},
   "outputs": [
    {
     "name": "stdout",
     "output_type": "stream",
     "text": [
      "150/150 [==============================] - 0s 91us/step\n"
     ]
    }
   ],
   "source": [
    "test_mse, test_mae =  nn_model.evaluate(X_test, y_test)"
   ]
  },
  {
   "cell_type": "code",
   "execution_count": 88,
   "metadata": {},
   "outputs": [
    {
     "name": "stdout",
     "output_type": "stream",
     "text": [
      "0.006927122622728348\n"
     ]
    }
   ],
   "source": [
    "print(test_mae)"
   ]
  },
  {
   "cell_type": "code",
   "execution_count": 85,
   "metadata": {},
   "outputs": [
    {
     "name": "stdout",
     "output_type": "stream",
     "text": [
      "0.6927122622728348\n"
     ]
    }
   ],
   "source": [
    "print(test_mse * 100) "
   ]
  },
  {
   "cell_type": "code",
   "execution_count": 87,
   "metadata": {},
   "outputs": [
    {
     "name": "stdout",
     "output_type": "stream",
     "text": [
      "processing fold # 0\n",
      "processing fold # 1\n",
      "processing fold # 2\n",
      "processing fold # 3\n"
     ]
    }
   ],
   "source": [
    "k=4\n",
    "num_val_samples = len(X_train) // k\n",
    "num_epochs = 100\n",
    "all_scores = []\n",
    "\n",
    "for i in range(k):\n",
    "    print('processing fold #', i)\n",
    "    val_data = X_train[i * num_val_samples: (i + 1) * num_val_samples]\n",
    "    val_targets = y_train[i * num_val_samples: (i + 1) * num_val_samples]\n",
    "    partial_train_data = np.concatenate(\n",
    "    [X_train[:i * num_val_samples],\n",
    "    X_train[(i + 1) * num_val_samples:]],\n",
    "    axis=0)\n",
    "    partial_train_targets = np.concatenate(\n",
    "    [y_train[:i * num_val_samples],\n",
    "    y_train[(i + 1) * num_val_samples:]],\n",
    "    axis=0)\n",
    "    model = build_model()\n",
    "    model.fit(partial_train_data, partial_train_targets,\n",
    "    epochs=num_epochs, batch_size=1, verbose=0)\n",
    "    val_mse, val_mae = model.evaluate(val_data, val_targets, verbose=0)\n",
    "    all_scores.append(val_mae)"
   ]
  },
  {
   "cell_type": "code",
   "execution_count": 89,
   "metadata": {},
   "outputs": [
    {
     "name": "stdout",
     "output_type": "stream",
     "text": [
      "[0.007727764835902329, 0.006832666577364521, 0.005807024838895291, 0.0071980028798611]\n"
     ]
    }
   ],
   "source": [
    "print(all_scores)"
   ]
  },
  {
   "cell_type": "code",
   "execution_count": 93,
   "metadata": {},
   "outputs": [
    {
     "data": {
      "text/plain": [
       "0.00689136478300581"
      ]
     },
     "execution_count": 93,
     "metadata": {},
     "output_type": "execute_result"
    }
   ],
   "source": [
    "np.mean(all_scores)"
   ]
  },
  {
   "cell_type": "code",
   "execution_count": 102,
   "metadata": {},
   "outputs": [
    {
     "name": "stdout",
     "output_type": "stream",
     "text": [
      "processing fold # 0\n",
      "processing fold # 1\n",
      "processing fold # 2\n",
      "processing fold # 3\n"
     ]
    }
   ],
   "source": [
    "num_epochs = 250\n",
    "all_mae_histories = []\n",
    "\n",
    "for i in range(k):\n",
    "    print('processing fold #', i)\n",
    "    \n",
    "    val_data = X_train[i * num_val_samples: (i + 1) * num_val_samples]\n",
    "    val_targets = y_train[i * num_val_samples: (i + 1) * num_val_samples]\n",
    "    \n",
    "    partial_train_data = np.concatenate(\n",
    "        [X_train[:i * num_val_samples],\n",
    "        X_train[(i + 1) * num_val_samples:]],\n",
    "        axis=0)\n",
    "    \n",
    "    partial_train_targets = np.concatenate(\n",
    "        [y_train[:i * num_val_samples],\n",
    "        y_train[(i + 1) * num_val_samples:]],\n",
    "        axis=0)\n",
    "    \n",
    "    model = build_model()\n",
    "    \n",
    "    history = model.fit(partial_train_data, partial_train_targets,\n",
    "        validation_data=(val_data, val_targets),\n",
    "        epochs=num_epochs, batch_size=1, verbose=0)\n",
    "    \n",
    "    mae_history = history.history['val_mean_absolute_error']\n",
    "    all_mae_histories.append(mae_history)"
   ]
  },
  {
   "cell_type": "code",
   "execution_count": 117,
   "metadata": {},
   "outputs": [
    {
     "data": {
      "image/png": "[encoded data removed]",
      "text/plain": [
       "<Figure size 432x288 with 1 Axes>"
      ]
     },
     "metadata": {
      "needs_background": "light"
     },
     "output_type": "display_data"
    }
   ],
   "source": [
    "plt.plot(range(1, len(average_mae_history) + 1), average_mae_history)\n",
    "plt.xlabel('Epochs')\n",
    "plt.ylabel('Validation MAE')\n",
    "plt.show()"
   ]
  },
  {
   "cell_type": "code",
   "execution_count": 104,
   "metadata": {},
   "outputs": [],
   "source": [
    "average_mae_history = [np.mean([x[i] for x in all_mae_histories]) for i in range(num_epochs)]"
   ]
  },
  {
   "cell_type": "code",
   "execution_count": 115,
   "metadata": {},
   "outputs": [],
   "source": [
    "def smooth_curve(points, factor=0.9):\n",
    "    smoothed_points = []\n",
    "    for point in points:\n",
    "        if smoothed_points:\n",
    "            previous = smoothed_points[-1]\n",
    "            smoothed_points.append(previous * factor + point * (1 - factor))\n",
    "        else:\n",
    "            smoothed_points.append(point)\n",
    "    return smoothed_points\n",
    "\n",
    "smooth_mae_history = smooth_curve(average_mae_history[5:])"
   ]
  },
  {
   "cell_type": "code",
   "execution_count": 116,
   "metadata": {},
   "outputs": [
    {
     "data": {
      "image/png": "[encoded data removed]",
      "text/plain": [
       "<Figure size 432x288 with 1 Axes>"
      ]
     },
     "metadata": {
      "needs_background": "light"
     },
     "output_type": "display_data"
    }
   ],
   "source": [
    "plt.plot(range(1, len(smooth_mae_history) + 1), smooth_mae_history)\n",
    "plt.xlabel('Epochs')\n",
    "plt.ylabel('Validation MAE')\n",
    "plt.show()"
   ]
  },
  {
   "cell_type": "code",
   "execution_count": 128,
   "metadata": {},
   "outputs": [
    {
     "data": {
      "text/plain": [
       "31"
      ]
     },
     "execution_count": 128,
     "metadata": {},
     "output_type": "execute_result"
    }
   ],
   "source": [
    "np.argmin(average_mae_history)"
   ]
  },
  {
   "cell_type": "code",
   "execution_count": 127,
   "metadata": {},
   "outputs": [
    {
     "data": {
      "text/plain": [
       "82"
      ]
     },
     "execution_count": 127,
     "metadata": {},
     "output_type": "execute_result"
    }
   ],
   "source": [
    "np.argmin(smooth_mae_history)"
   ]
  },
  {
   "cell_type": "code",
   "execution_count": 136,
   "metadata": {},
   "outputs": [
    {
     "name": "stdout",
     "output_type": "stream",
     "text": [
      "Epoch 1/82\n",
      "350/350 [==============================] - 1s 3ms/step - loss: 0.1245 - mean_absolute_error: 0.2601\n",
      "Epoch 2/82\n",
      "350/350 [==============================] - 0s 160us/step - loss: 0.0211 - mean_absolute_error: 0.1162\n",
      "Epoch 3/82\n",
      "350/350 [==============================] - 0s 178us/step - loss: 0.0123 - mean_absolute_error: 0.0867\n",
      "Epoch 4/82\n",
      "350/350 [==============================] - 0s 221us/step - loss: 0.0096 - mean_absolute_error: 0.0773\n",
      "Epoch 5/82\n",
      "350/350 [==============================] - 0s 221us/step - loss: 0.0086 - mean_absolute_error: 0.0713\n",
      "Epoch 6/82\n",
      "350/350 [==============================] - 0s 241us/step - loss: 0.0075 - mean_absolute_error: 0.0681\n",
      "Epoch 7/82\n",
      "350/350 [==============================] - 0s 171us/step - loss: 0.0055 - mean_absolute_error: 0.0577\n",
      "Epoch 8/82\n",
      "350/350 [==============================] - 0s 230us/step - loss: 0.0064 - mean_absolute_error: 0.0644\n",
      "Epoch 9/82\n",
      "350/350 [==============================] - 0s 210us/step - loss: 0.0054 - mean_absolute_error: 0.0579\n",
      "Epoch 10/82\n",
      "350/350 [==============================] - 0s 187us/step - loss: 0.0047 - mean_absolute_error: 0.0533\n",
      "Epoch 11/82\n",
      "350/350 [==============================] - 0s 226us/step - loss: 0.0050 - mean_absolute_error: 0.0564\n",
      "Epoch 12/82\n",
      "350/350 [==============================] - 0s 275us/step - loss: 0.0049 - mean_absolute_error: 0.0544\n",
      "Epoch 13/82\n",
      "350/350 [==============================] - 0s 298us/step - loss: 0.0047 - mean_absolute_error: 0.0545\n",
      "Epoch 14/82\n",
      "350/350 [==============================] - 0s 252us/step - loss: 0.0037 - mean_absolute_error: 0.0467\n",
      "Epoch 15/82\n",
      "350/350 [==============================] - 0s 238us/step - loss: 0.0054 - mean_absolute_error: 0.0577\n",
      "Epoch 16/82\n",
      "350/350 [==============================] - ETA: 0s - loss: 0.0038 - mean_absolute_error: 0.047 - 0s 212us/step - loss: 0.0037 - mean_absolute_error: 0.0474\n",
      "Epoch 17/82\n",
      "350/350 [==============================] - 0s 211us/step - loss: 0.0042 - mean_absolute_error: 0.0502\n",
      "Epoch 18/82\n",
      "350/350 [==============================] - 0s 262us/step - loss: 0.0043 - mean_absolute_error: 0.0509\n",
      "Epoch 19/82\n",
      "350/350 [==============================] - 0s 223us/step - loss: 0.0045 - mean_absolute_error: 0.0520\n",
      "Epoch 20/82\n",
      "350/350 [==============================] - 0s 238us/step - loss: 0.0041 - mean_absolute_error: 0.0504\n",
      "Epoch 21/82\n",
      "350/350 [==============================] - 0s 270us/step - loss: 0.0042 - mean_absolute_error: 0.0504\n",
      "Epoch 22/82\n",
      "350/350 [==============================] - 0s 256us/step - loss: 0.0034 - mean_absolute_error: 0.0444\n",
      "Epoch 23/82\n",
      "350/350 [==============================] - 0s 219us/step - loss: 0.0044 - mean_absolute_error: 0.0491\n",
      "Epoch 24/82\n",
      "350/350 [==============================] - 0s 223us/step - loss: 0.0038 - mean_absolute_error: 0.0455\n",
      "Epoch 25/82\n",
      "350/350 [==============================] - 0s 209us/step - loss: 0.0032 - mean_absolute_error: 0.0434\n",
      "Epoch 26/82\n",
      "350/350 [==============================] - 0s 202us/step - loss: 0.0034 - mean_absolute_error: 0.0448\n",
      "Epoch 27/82\n",
      "350/350 [==============================] - 0s 212us/step - loss: 0.0037 - mean_absolute_error: 0.0473\n",
      "Epoch 28/82\n",
      "350/350 [==============================] - 0s 208us/step - loss: 0.0037 - mean_absolute_error: 0.0460\n",
      "Epoch 29/82\n",
      "350/350 [==============================] - 0s 206us/step - loss: 0.0037 - mean_absolute_error: 0.0472\n",
      "Epoch 30/82\n",
      "350/350 [==============================] - 0s 212us/step - loss: 0.0023 - mean_absolute_error: 0.0364\n",
      "Epoch 31/82\n",
      "350/350 [==============================] - 0s 185us/step - loss: 0.0042 - mean_absolute_error: 0.0512\n",
      "Epoch 32/82\n",
      "350/350 [==============================] - 0s 178us/step - loss: 0.0032 - mean_absolute_error: 0.0443\n",
      "Epoch 33/82\n",
      "350/350 [==============================] - 0s 220us/step - loss: 0.0029 - mean_absolute_error: 0.0421\n",
      "Epoch 34/82\n",
      "350/350 [==============================] - 0s 234us/step - loss: 0.0037 - mean_absolute_error: 0.0481\n",
      "Epoch 35/82\n",
      "350/350 [==============================] - 0s 228us/step - loss: 0.0028 - mean_absolute_error: 0.0414\n",
      "Epoch 36/82\n",
      "350/350 [==============================] - 0s 253us/step - loss: 0.0033 - mean_absolute_error: 0.0447\n",
      "Epoch 37/82\n",
      "350/350 [==============================] - 0s 194us/step - loss: 0.0033 - mean_absolute_error: 0.0449\n",
      "Epoch 38/82\n",
      "350/350 [==============================] - 0s 201us/step - loss: 0.0028 - mean_absolute_error: 0.0417\n",
      "Epoch 39/82\n",
      "350/350 [==============================] - 0s 196us/step - loss: 0.0033 - mean_absolute_error: 0.0444\n",
      "Epoch 40/82\n",
      "350/350 [==============================] - 0s 211us/step - loss: 0.0031 - mean_absolute_error: 0.0415\n",
      "Epoch 41/82\n",
      "350/350 [==============================] - 0s 197us/step - loss: 0.0029 - mean_absolute_error: 0.0400\n",
      "Epoch 42/82\n",
      "350/350 [==============================] - 0s 207us/step - loss: 0.0028 - mean_absolute_error: 0.0416\n",
      "Epoch 43/82\n",
      "350/350 [==============================] - 0s 230us/step - loss: 0.0031 - mean_absolute_error: 0.0435\n",
      "Epoch 44/82\n",
      "350/350 [==============================] - ETA: 0s - loss: 0.0032 - mean_absolute_error: 0.045 - 0s 267us/step - loss: 0.0030 - mean_absolute_error: 0.0440\n",
      "Epoch 45/82\n",
      "350/350 [==============================] - 0s 222us/step - loss: 0.0028 - mean_absolute_error: 0.0399\n",
      "Epoch 46/82\n",
      "350/350 [==============================] - 0s 211us/step - loss: 0.0032 - mean_absolute_error: 0.0444\n",
      "Epoch 47/82\n",
      "350/350 [==============================] - 0s 223us/step - loss: 0.0025 - mean_absolute_error: 0.0383\n",
      "Epoch 48/82\n",
      "350/350 [==============================] - 0s 210us/step - loss: 0.0026 - mean_absolute_error: 0.0400\n",
      "Epoch 49/82\n",
      "350/350 [==============================] - 0s 212us/step - loss: 0.0028 - mean_absolute_error: 0.0399\n",
      "Epoch 50/82\n",
      "350/350 [==============================] - 0s 202us/step - loss: 0.0027 - mean_absolute_error: 0.0403\n",
      "Epoch 51/82\n",
      "350/350 [==============================] - 0s 198us/step - loss: 0.0030 - mean_absolute_error: 0.0419\n",
      "Epoch 52/82\n",
      "350/350 [==============================] - 0s 196us/step - loss: 0.0021 - mean_absolute_error: 0.0356\n",
      "Epoch 53/82\n",
      "350/350 [==============================] - 0s 186us/step - loss: 0.0025 - mean_absolute_error: 0.0383\n",
      "Epoch 54/82\n",
      "350/350 [==============================] - 0s 222us/step - loss: 0.0027 - mean_absolute_error: 0.0388\n",
      "Epoch 55/82\n",
      "350/350 [==============================] - 0s 169us/step - loss: 0.0029 - mean_absolute_error: 0.0403\n",
      "Epoch 56/82\n",
      "350/350 [==============================] - 0s 185us/step - loss: 0.0025 - mean_absolute_error: 0.0376\n",
      "Epoch 57/82\n",
      "350/350 [==============================] - 0s 205us/step - loss: 0.0026 - mean_absolute_error: 0.0396\n",
      "Epoch 58/82\n",
      "350/350 [==============================] - 0s 190us/step - loss: 0.0023 - mean_absolute_error: 0.0378\n",
      "Epoch 59/82\n",
      "350/350 [==============================] - 0s 180us/step - loss: 0.0026 - mean_absolute_error: 0.0389\n",
      "Epoch 60/82\n",
      "350/350 [==============================] - 0s 190us/step - loss: 0.0023 - mean_absolute_error: 0.0357\n",
      "Epoch 61/82\n",
      "350/350 [==============================] - 0s 226us/step - loss: 0.0026 - mean_absolute_error: 0.0381\n",
      "Epoch 62/82\n",
      "350/350 [==============================] - 0s 195us/step - loss: 0.0020 - mean_absolute_error: 0.0342\n",
      "Epoch 63/82\n",
      "350/350 [==============================] - 0s 175us/step - loss: 0.0020 - mean_absolute_error: 0.0330\n",
      "Epoch 64/82\n",
      "350/350 [==============================] - 0s 160us/step - loss: 0.0029 - mean_absolute_error: 0.0416\n",
      "Epoch 65/82\n",
      "350/350 [==============================] - 0s 128us/step - loss: 0.0018 - mean_absolute_error: 0.0330\n",
      "Epoch 66/82\n",
      "350/350 [==============================] - 0s 221us/step - loss: 0.0026 - mean_absolute_error: 0.0391\n",
      "Epoch 67/82\n",
      "350/350 [==============================] - 0s 318us/step - loss: 0.0018 - mean_absolute_error: 0.0324\n",
      "Epoch 68/82\n",
      "350/350 [==============================] - 0s 223us/step - loss: 0.0023 - mean_absolute_error: 0.0376\n",
      "Epoch 69/82\n",
      "350/350 [==============================] - 0s 186us/step - loss: 0.0023 - mean_absolute_error: 0.0357\n",
      "Epoch 70/82\n",
      "350/350 [==============================] - 0s 206us/step - loss: 0.0029 - mean_absolute_error: 0.0418 0s - loss: 0.0023 - mean_absolute_error: 0.037\n",
      "Epoch 71/82\n"
     ]
    },
    {
     "name": "stdout",
     "output_type": "stream",
     "text": [
      "350/350 [==============================] - 0s 183us/step - loss: 0.0025 - mean_absolute_error: 0.0364\n",
      "Epoch 72/82\n",
      "350/350 [==============================] - 0s 191us/step - loss: 0.0016 - mean_absolute_error: 0.0290\n",
      "Epoch 73/82\n",
      "350/350 [==============================] - 0s 234us/step - loss: 0.0025 - mean_absolute_error: 0.0385\n",
      "Epoch 74/82\n",
      "350/350 [==============================] - 0s 220us/step - loss: 0.0018 - mean_absolute_error: 0.0319\n",
      "Epoch 75/82\n",
      "350/350 [==============================] - 0s 199us/step - loss: 0.0026 - mean_absolute_error: 0.0394\n",
      "Epoch 76/82\n",
      "350/350 [==============================] - 0s 213us/step - loss: 0.0021 - mean_absolute_error: 0.0347\n",
      "Epoch 77/82\n",
      "350/350 [==============================] - 0s 182us/step - loss: 0.0020 - mean_absolute_error: 0.0350\n",
      "Epoch 78/82\n",
      "350/350 [==============================] - 0s 231us/step - loss: 0.0020 - mean_absolute_error: 0.0345\n",
      "Epoch 79/82\n",
      "350/350 [==============================] - 0s 191us/step - loss: 0.0024 - mean_absolute_error: 0.0367\n",
      "Epoch 80/82\n",
      "350/350 [==============================] - 0s 187us/step - loss: 0.0018 - mean_absolute_error: 0.0315\n",
      "Epoch 81/82\n",
      "350/350 [==============================] - ETA: 0s - loss: 0.0018 - mean_absolute_error: 0.033 - 0s 174us/step - loss: 0.0019 - mean_absolute_error: 0.0332\n",
      "Epoch 82/82\n",
      "350/350 [==============================] - 0s 187us/step - loss: 0.0024 - mean_absolute_error: 0.0385\n",
      "150/150 [==============================] - 0s 2ms/step\n"
     ]
    }
   ],
   "source": [
    "model = build_model()\n",
    "model.fit(X_train, y_train,\n",
    "    epochs=82, batch_size=16, verbose=1)\n",
    "test_mse_score, test_mae_score = model.evaluate(X_test, y_test)"
   ]
  },
  {
   "cell_type": "code",
   "execution_count": 137,
   "metadata": {},
   "outputs": [
    {
     "data": {
      "text/plain": [
       "0.05708818475405375"
      ]
     },
     "execution_count": 137,
     "metadata": {},
     "output_type": "execute_result"
    }
   ],
   "source": [
    "test_mae_score"
   ]
  },
  {
   "cell_type": "markdown",
   "metadata": {},
   "source": [
    "Random forest MAE"
   ]
  },
  {
   "cell_type": "code",
   "execution_count": 132,
   "metadata": {},
   "outputs": [
    {
     "data": {
      "text/plain": [
       "0.04781278242694524"
      ]
     },
     "execution_count": 132,
     "metadata": {},
     "output_type": "execute_result"
    }
   ],
   "source": [
    "mean_absolute_error(preds, y_test)"
   ]
  },
  {
   "cell_type": "code",
   "execution_count": null,
   "metadata": {},
   "outputs": [],
   "source": []
  }
 ],
 "metadata": {
  "kernelspec": {
   "display_name": "Python 3",
   "language": "python",
   "name": "python3"
  },
  "language_info": {
   "codemirror_mode": {
    "name": "ipython",
    "version": 3
   },
   "file_extension": ".py",
   "mimetype": "text/x-python",
   "name": "python",
   "nbconvert_exporter": "python",
   "pygments_lexer": "ipython3",
   "version": "3.7.3"
  }
 },
 "nbformat": 4,
 "nbformat_minor": 2
}
